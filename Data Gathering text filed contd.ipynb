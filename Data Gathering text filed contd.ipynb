{
 "cells": [
  {
   "cell_type": "code",
   "execution_count": 1,
   "id": "368a375e",
   "metadata": {},
   "outputs": [],
   "source": [
    "import requests\n",
    "import pandas as pd"
   ]
  },
  {
   "cell_type": "code",
   "execution_count": 2,
   "id": "b4b3d4c4",
   "metadata": {},
   "outputs": [],
   "source": [
    "import glob"
   ]
  },
  {
   "cell_type": "code",
   "execution_count": 4,
   "id": "aed1b08c",
   "metadata": {},
   "outputs": [
    {
     "name": "stdout",
     "output_type": "stream",
     "text": [
      "The Wizard of Oz (1939)\n",
      "http://www.rogerebert.com/reviews/great-movie-the-wizard-of-oz-1939\n",
      "As a child I simply did not notice whether a movie was in color or not. The movies themselves were such an overwhelming mystery that if they wanted to be in black and white, that was their business. It was not until I saw \"The Wizard of Oz\" for the first time that I consciously noticed B&W versus color, as Dorothy was blown out of Kansas and into Oz. What did I think? It made good sense to me.\n",
      "\n",
      "The switch from black and white to color would have had a special resonance in 1939, when the movie was made. Almost all films were still being made in black and white, and the cumbersome new color cameras came with a “Technicolor consultant” from the factory, who stood next to the cinematographer and officiously suggested higher light levels. Shooting in color might have been indicated because the film was MGM's response to the huge success of Disney's pioneering color animated feature, \"Snow White and the Seven Dwarfs\" (1937).\n",
      "\n",
      "If “Wizard” began in one way and continued in another, that was also the history of the production. Richard Thorpe, the original director, was fired after 12 days. George Cukor filled in for three days, long enough to tell Judy Garland to lose the wig and the makeup, and then Victor Fleming took over. When Fleming went to “Gone With the Wind,” King Vidor did some of the Munchkin sequences, and the Kansas scenes.\n",
      "\n",
      "There were cast changes, too; after Buddy Ebsen, as the Tin Man, had an allergic reaction to the silvery makeup, he was replaced by Jack Haley. Musical numbers were recorded and never used. Margaret Hamilton (the Wicked Witch of the West) was seriously burned when she went up in a puff of smoke. Even Toto was out of commission for two weeks after being stepped on by a crewmember.\n",
      "\n",
      "We study all of these details, I think, because “The Wizard of Oz” fills such a large space in our imagination. It somehow seems real and important in a way most movies don't. Is that because we see it first when we’re young? Or simply because it is a wonderful movie? Or because it sounds some buried universal note, some archetype or deeply felt myth?\n",
      "\n",
      "I lean toward the third possibility, that the elements in “The Wizard of Oz” powerfully fill a void that exists inside many children. For kids of a certain age, home is everything, the center of the world. But over the rainbow, dimly guessed at, is the wide earth, fascinating and terrifying. There is a deep fundamental fear that events might conspire to transport the child from the safety of home and strand him far away in a strange land. And what would he hope to find there? Why, new friends, to advise and protect him. And Toto, of course, because children have such a strong symbiotic relationship with their pets that they assume they would get lost together.\n",
      "\n",
      "This deep universal appeal explains why so many different people from many backgrounds have a compartment of their memory reserved for “The Wizard of Oz.” Salman Rushdie, growing up in Bombay, remembers that seeing the film at 10 “made a writer of me.” Terry McMillan, as an African-American child in northern Michigan, “completely identified when no one had time to listen to Dorothy.” Rushdie wrote that the film's “driving force is the inadequacy of adults, even of good adults, and how the weakness of grownups forces children to take control of their own destinies.” McMillan learned about courage, about “being afraid but doing whatever it was you set out to do anyway.”\n",
      "\n",
      "They're touching on the key lesson of childhood, which is that someday the child will not be a child, that home will no longer exist, that adults will be no help because now the child is an adult and must face the challenges of life alone. But that you can ask friends to help you. And that even the Wizard of Oz is only human, and has problems of his own.\n",
      "\n",
      "“The Wizard of Oz” has a wonderful surface of comedy and music, special effects and excitement, but we still watch it six decades later because its underlying story penetrates straight to the deepest insecurities of childhood, stirs them and then reassures them. As adults, we love it because it reminds us of a journey we have taken. That is why any adult in control of a child is sooner or later going to suggest a viewing of “The Wizard of Oz.”\n",
      "\n",
      "Judy Garland had, I gather, an unhappy childhood (there are those stories about MGM quacks shooting her full of speed in the morning and tranquilizers at day's end), but she was a luminous performer, already almost17 when she played young Dorothy. She was important to the movie because she projected vulnerability and a certain sadness in every tone of her voice. A brassy young child star (a young Ethel Merman, say) would have been fatal to the material because she would have approached it with too much bravado. Garland’s whole persona projected a tremulous uncertainty, a wistfulness. When she hoped that troubles would melt like lemon drops, you believed she had troubles.\n",
      "\n",
      "Her friends on the Yellow Brick Road (the Tin Man, the Scarecrow, the Cowardly Lion) were projections of every child's secret fears. Are we real? Are we ugly and silly? Are we brave enough? In helping them, Dorothy was helping herself, just as an older child will overcome fears by acting brave before a younger one.\n",
      "\n",
      "The actors (Jack Haley, Ray Bolger, Bert Lahr) had all come up through a tradition of vaudeville and revue comedy, and played the characters with a sublime unself-consciousness. Maybe it helped that none of them knew they were making a great movie. They seem relaxed and loose in many scenes, as if the roles were a lark. L. Frank Baum's book had been filmed before (Oliver Hardy played the Tin Man in 1925), and this version, while ambitious, was overshadowed by the studio's simultaneous preparation of “Gone With the Wind.” Garland was already a star when she made “Wizard,” but not a great star--that came in the 1940s, inspired by “Wizard.”\n",
      "\n",
      "The special effects are glorious in that old Hollywood way, in which you don't even have to look closely to see where the set ends and the backdrop begins. Modern special effects show *exactly* how imaginary scenes might look; effects then showed how we *thought* about them. A bigger Yellow Brick Road would not have been a better one.\n",
      "\n",
      "The movie's storytelling device of a dream is just precisely obvious enough to appeal to younger viewers. Dorothy, faced with a crisis (the loss of Toto), meets the intriguing Professor Marvel (Frank Morgan) on the road. She is befriended by three farm hands (Bolger, Haley and Lahr). Soon comes the fearsome tornado. (What frightened me was that you could see individual things floating by--for months I dreamed circling around and around while seated at the little desk in my bedroom, looking at classmates being swept mutely past me.) Then, after the magical transition to color, Dorothy meets the same characters again, so we know it's all a dream, but not really.\n",
      "\n",
      "There are good and bad adult figures in Oz--the Wicked Witches of the East and West, the Good Witch Glinda. Dorothy would like help from her friends but needs to help them instead (“If I Only Had a Brain,” or a heart, or nerve, they sing). Arriving at last at the Emerald City, they have another dreamlike experience; almost everyone they meet seems vaguely similar (because they’re all played by Morgan). The Wizard sends them on a mission to get the Wicked Witch's broom, and it is not insignificant that the key to Dorothy’s return to Kansas is the pair of ruby slippers. Grownup shoes.\n",
      "\n",
      "The ending has always seemed poignant to me. Dorothy is back in Kansas, but the color has drained from the film, and her magical friends are mundane once again. “The land of Oz wasn't such a bad place to be stuck in,” decided young Terry McMillan, discontented with her life in Michigan. “It beat the farm in Kansas.”\n"
     ]
    }
   ],
   "source": [
    "for ebert_review in glob.glob('ebert_reviews/*.txt'):\n",
    "    with open(ebert_review, encoding='utf-8') as file:\n",
    "        print(file.read())\n",
    "        break"
   ]
  },
  {
   "cell_type": "code",
   "execution_count": 10,
   "id": "0ef1108a",
   "metadata": {},
   "outputs": [
    {
     "name": "stdout",
     "output_type": "stream",
     "text": [
      "The Wizard of Oz (1939)\n"
     ]
    }
   ],
   "source": [
    "for ebert_review in glob.glob('ebert_reviews/*.txt'):\n",
    "    with open(ebert_review, encoding='utf-8') as file:\n",
    "        print(file.readline()[:-1])#the indexing eliminates the new line escape character\n",
    "        break"
   ]
  },
  {
   "cell_type": "code",
   "execution_count": 51,
   "id": "6197dde0",
   "metadata": {},
   "outputs": [],
   "source": [
    "#let's now create a list to later convert into a dataframe\n",
    "df_list=[]\n",
    "for ebert_review in glob.glob('ebert_reviews/*.txt'):\n",
    "    with open(ebert_review, encoding='utf-8') as file:\n",
    "        title=file.readline()[:-1]\n",
    "        review_url=file.readline()[:-1]\n",
    "        review_txt=file.read()\n",
    "        df_list.append({'title':title,\n",
    "                       'review_url':review_url,\n",
    "                       'review_txt':review_txt})\n",
    "        \n",
    "df=pd.DataFrame(df_list,columns=['title', 'review_url', 'review_txt'])"
   ]
  },
  {
   "cell_type": "code",
   "execution_count": 52,
   "id": "0ae51e60",
   "metadata": {},
   "outputs": [
    {
     "data": {
      "text/html": [
       "<div>\n",
       "<style scoped>\n",
       "    .dataframe tbody tr th:only-of-type {\n",
       "        vertical-align: middle;\n",
       "    }\n",
       "\n",
       "    .dataframe tbody tr th {\n",
       "        vertical-align: top;\n",
       "    }\n",
       "\n",
       "    .dataframe thead th {\n",
       "        text-align: right;\n",
       "    }\n",
       "</style>\n",
       "<table border=\"1\" class=\"dataframe\">\n",
       "  <thead>\n",
       "    <tr style=\"text-align: right;\">\n",
       "      <th></th>\n",
       "      <th>title</th>\n",
       "      <th>review_url</th>\n",
       "      <th>review_txt</th>\n",
       "    </tr>\n",
       "  </thead>\n",
       "  <tbody>\n",
       "    <tr>\n",
       "      <th>0</th>\n",
       "      <td>The Wizard of Oz (1939)</td>\n",
       "      <td>http://www.rogerebert.com/reviews/great-movie-...</td>\n",
       "      <td>As a child I simply did not notice whether a m...</td>\n",
       "    </tr>\n",
       "    <tr>\n",
       "      <th>1</th>\n",
       "      <td>Metropolis (1927)</td>\n",
       "      <td>http://www.rogerebert.com/reviews/great-movie-...</td>\n",
       "      <td>The opening shots of the restored “Metropolis”...</td>\n",
       "    </tr>\n",
       "    <tr>\n",
       "      <th>2</th>\n",
       "      <td>Battleship Potemkin (1925)</td>\n",
       "      <td>http://www.rogerebert.com/reviews/great-movie-...</td>\n",
       "      <td>\"The Battleship Potemkin” has been so famous f...</td>\n",
       "    </tr>\n",
       "    <tr>\n",
       "      <th>3</th>\n",
       "      <td>E.T. The Extra-Terrestrial (1982)</td>\n",
       "      <td>http://www.rogerebert.com/reviews/great-movie-...</td>\n",
       "      <td>Dear Raven and Emil:\\n\\nSunday we sat on the b...</td>\n",
       "    </tr>\n",
       "    <tr>\n",
       "      <th>4</th>\n",
       "      <td>Modern Times (1936)</td>\n",
       "      <td>http://www.rogerebert.com/reviews/modern-times...</td>\n",
       "      <td>A lot of movies are said to be timeless, but s...</td>\n",
       "    </tr>\n",
       "  </tbody>\n",
       "</table>\n",
       "</div>"
      ],
      "text/plain": [
       "                               title  \\\n",
       "0            The Wizard of Oz (1939)   \n",
       "1                  Metropolis (1927)   \n",
       "2         Battleship Potemkin (1925)   \n",
       "3  E.T. The Extra-Terrestrial (1982)   \n",
       "4                Modern Times (1936)   \n",
       "\n",
       "                                          review_url  \\\n",
       "0  http://www.rogerebert.com/reviews/great-movie-...   \n",
       "1  http://www.rogerebert.com/reviews/great-movie-...   \n",
       "2  http://www.rogerebert.com/reviews/great-movie-...   \n",
       "3  http://www.rogerebert.com/reviews/great-movie-...   \n",
       "4  http://www.rogerebert.com/reviews/modern-times...   \n",
       "\n",
       "                                          review_txt  \n",
       "0  As a child I simply did not notice whether a m...  \n",
       "1  The opening shots of the restored “Metropolis”...  \n",
       "2  \"The Battleship Potemkin” has been so famous f...  \n",
       "3  Dear Raven and Emil:\\n\\nSunday we sat on the b...  \n",
       "4  A lot of movies are said to be timeless, but s...  "
      ]
     },
     "execution_count": 52,
     "metadata": {},
     "output_type": "execute_result"
    }
   ],
   "source": [
    "df.head()"
   ]
  },
  {
   "cell_type": "code",
   "execution_count": 54,
   "id": "d017ab60",
   "metadata": {},
   "outputs": [
    {
     "data": {
      "text/plain": [
       "0              The Wizard of Oz (1939)\n",
       "1                    Metropolis (1927)\n",
       "2           Battleship Potemkin (1925)\n",
       "3    E.T. The Extra-Terrestrial (1982)\n",
       "4                  Modern Times (1936)\n",
       "5           Singin' in the Rain (1952)\n",
       "6                       Boyhood (2014)\n",
       "7                    Casablanca (1942)\n",
       "8                     Moonlight (2016)\n",
       "9                        Psycho (1960)\n",
       "Name: title, dtype: object"
      ]
     },
     "execution_count": 54,
     "metadata": {},
     "output_type": "execute_result"
    }
   ],
   "source": [
    "df.title.head(10)"
   ]
  },
  {
   "cell_type": "code",
   "execution_count": 55,
   "id": "24728f0a",
   "metadata": {},
   "outputs": [],
   "source": [
    "df.to_csv('from_txt.csv')"
   ]
  },
  {
   "cell_type": "code",
   "execution_count": null,
   "id": "4edc1da1",
   "metadata": {},
   "outputs": [],
   "source": []
  }
 ],
 "metadata": {
  "kernelspec": {
   "display_name": "Python 3 (ipykernel)",
   "language": "python",
   "name": "python3"
  },
  "language_info": {
   "codemirror_mode": {
    "name": "ipython",
    "version": 3
   },
   "file_extension": ".py",
   "mimetype": "text/x-python",
   "name": "python",
   "nbconvert_exporter": "python",
   "pygments_lexer": "ipython3",
   "version": "3.10.5"
  }
 },
 "nbformat": 4,
 "nbformat_minor": 5
}
