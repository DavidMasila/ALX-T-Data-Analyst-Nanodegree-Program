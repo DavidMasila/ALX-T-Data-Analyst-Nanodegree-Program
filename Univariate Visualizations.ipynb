{
 "cells": [
  {
   "cell_type": "markdown",
   "id": "8e790f54",
   "metadata": {},
   "source": [
    "# Univariate Visualizations"
   ]
  },
  {
   "cell_type": "code",
   "execution_count": 1,
   "id": "e0ad2c64",
   "metadata": {},
   "outputs": [],
   "source": [
    "import pandas as pd\n",
    "import numpy as np\n",
    "import matplotlib.pyplot as plt\n",
    "import seaborn as sns\n",
    "\n",
    "\n",
    "%matplotlib inline"
   ]
  },
  {
   "cell_type": "code",
   "execution_count": 2,
   "id": "68dab844",
   "metadata": {},
   "outputs": [],
   "source": [
    "df=pd.read_csv(\"pokemon.csv\")"
   ]
  },
  {
   "cell_type": "code",
   "execution_count": 3,
   "id": "3322258b",
   "metadata": {},
   "outputs": [
    {
     "data": {
      "text/html": [
       "<div>\n",
       "<style scoped>\n",
       "    .dataframe tbody tr th:only-of-type {\n",
       "        vertical-align: middle;\n",
       "    }\n",
       "\n",
       "    .dataframe tbody tr th {\n",
       "        vertical-align: top;\n",
       "    }\n",
       "\n",
       "    .dataframe thead th {\n",
       "        text-align: right;\n",
       "    }\n",
       "</style>\n",
       "<table border=\"1\" class=\"dataframe\">\n",
       "  <thead>\n",
       "    <tr style=\"text-align: right;\">\n",
       "      <th></th>\n",
       "      <th>id</th>\n",
       "      <th>species</th>\n",
       "      <th>generation_id</th>\n",
       "      <th>height</th>\n",
       "      <th>weight</th>\n",
       "      <th>base_experience</th>\n",
       "      <th>type_1</th>\n",
       "      <th>type_2</th>\n",
       "      <th>hp</th>\n",
       "      <th>attack</th>\n",
       "      <th>defense</th>\n",
       "      <th>speed</th>\n",
       "      <th>special-attack</th>\n",
       "      <th>special-defense</th>\n",
       "    </tr>\n",
       "  </thead>\n",
       "  <tbody>\n",
       "    <tr>\n",
       "      <th>0</th>\n",
       "      <td>1</td>\n",
       "      <td>bulbasaur</td>\n",
       "      <td>1</td>\n",
       "      <td>0.7</td>\n",
       "      <td>6.9</td>\n",
       "      <td>64</td>\n",
       "      <td>grass</td>\n",
       "      <td>poison</td>\n",
       "      <td>45</td>\n",
       "      <td>49</td>\n",
       "      <td>49</td>\n",
       "      <td>45</td>\n",
       "      <td>65</td>\n",
       "      <td>65</td>\n",
       "    </tr>\n",
       "    <tr>\n",
       "      <th>1</th>\n",
       "      <td>2</td>\n",
       "      <td>ivysaur</td>\n",
       "      <td>1</td>\n",
       "      <td>1.0</td>\n",
       "      <td>13.0</td>\n",
       "      <td>142</td>\n",
       "      <td>grass</td>\n",
       "      <td>poison</td>\n",
       "      <td>60</td>\n",
       "      <td>62</td>\n",
       "      <td>63</td>\n",
       "      <td>60</td>\n",
       "      <td>80</td>\n",
       "      <td>80</td>\n",
       "    </tr>\n",
       "    <tr>\n",
       "      <th>2</th>\n",
       "      <td>3</td>\n",
       "      <td>venusaur</td>\n",
       "      <td>1</td>\n",
       "      <td>2.0</td>\n",
       "      <td>100.0</td>\n",
       "      <td>236</td>\n",
       "      <td>grass</td>\n",
       "      <td>poison</td>\n",
       "      <td>80</td>\n",
       "      <td>82</td>\n",
       "      <td>83</td>\n",
       "      <td>80</td>\n",
       "      <td>100</td>\n",
       "      <td>100</td>\n",
       "    </tr>\n",
       "    <tr>\n",
       "      <th>3</th>\n",
       "      <td>4</td>\n",
       "      <td>charmander</td>\n",
       "      <td>1</td>\n",
       "      <td>0.6</td>\n",
       "      <td>8.5</td>\n",
       "      <td>62</td>\n",
       "      <td>fire</td>\n",
       "      <td>NaN</td>\n",
       "      <td>39</td>\n",
       "      <td>52</td>\n",
       "      <td>43</td>\n",
       "      <td>65</td>\n",
       "      <td>60</td>\n",
       "      <td>50</td>\n",
       "    </tr>\n",
       "    <tr>\n",
       "      <th>4</th>\n",
       "      <td>5</td>\n",
       "      <td>charmeleon</td>\n",
       "      <td>1</td>\n",
       "      <td>1.1</td>\n",
       "      <td>19.0</td>\n",
       "      <td>142</td>\n",
       "      <td>fire</td>\n",
       "      <td>NaN</td>\n",
       "      <td>58</td>\n",
       "      <td>64</td>\n",
       "      <td>58</td>\n",
       "      <td>80</td>\n",
       "      <td>80</td>\n",
       "      <td>65</td>\n",
       "    </tr>\n",
       "  </tbody>\n",
       "</table>\n",
       "</div>"
      ],
      "text/plain": [
       "   id     species  generation_id  height  weight  base_experience type_1  \\\n",
       "0   1   bulbasaur              1     0.7     6.9               64  grass   \n",
       "1   2     ivysaur              1     1.0    13.0              142  grass   \n",
       "2   3    venusaur              1     2.0   100.0              236  grass   \n",
       "3   4  charmander              1     0.6     8.5               62   fire   \n",
       "4   5  charmeleon              1     1.1    19.0              142   fire   \n",
       "\n",
       "   type_2  hp  attack  defense  speed  special-attack  special-defense  \n",
       "0  poison  45      49       49     45              65               65  \n",
       "1  poison  60      62       63     60              80               80  \n",
       "2  poison  80      82       83     80             100              100  \n",
       "3     NaN  39      52       43     65              60               50  \n",
       "4     NaN  58      64       58     80              80               65  "
      ]
     },
     "execution_count": 3,
     "metadata": {},
     "output_type": "execute_result"
    }
   ],
   "source": [
    "df.head()"
   ]
  },
  {
   "cell_type": "code",
   "execution_count": 4,
   "id": "157cf206",
   "metadata": {},
   "outputs": [
    {
     "data": {
      "text/plain": [
       "(807, 14)"
      ]
     },
     "execution_count": 4,
     "metadata": {},
     "output_type": "execute_result"
    }
   ],
   "source": [
    "df.shape"
   ]
  },
  {
   "cell_type": "code",
   "execution_count": 5,
   "id": "8e382e12",
   "metadata": {},
   "outputs": [
    {
     "data": {
      "text/plain": [
       "id                   int64\n",
       "species             object\n",
       "generation_id        int64\n",
       "height             float64\n",
       "weight             float64\n",
       "base_experience      int64\n",
       "type_1              object\n",
       "type_2              object\n",
       "hp                   int64\n",
       "attack               int64\n",
       "defense              int64\n",
       "speed                int64\n",
       "special-attack       int64\n",
       "special-defense      int64\n",
       "dtype: object"
      ]
     },
     "execution_count": 5,
     "metadata": {},
     "output_type": "execute_result"
    }
   ],
   "source": [
    "df.dtypes"
   ]
  },
  {
   "cell_type": "code",
   "execution_count": 6,
   "id": "08ba8b3e",
   "metadata": {},
   "outputs": [],
   "source": [
    "df['generation_id']=df['generation_id'].astype(str)"
   ]
  },
  {
   "cell_type": "code",
   "execution_count": 7,
   "id": "fee896f0",
   "metadata": {},
   "outputs": [
    {
     "data": {
      "text/plain": [
       "id                   int64\n",
       "species             object\n",
       "generation_id       object\n",
       "height             float64\n",
       "weight             float64\n",
       "base_experience      int64\n",
       "type_1              object\n",
       "type_2              object\n",
       "hp                   int64\n",
       "attack               int64\n",
       "defense              int64\n",
       "speed                int64\n",
       "special-attack       int64\n",
       "special-defense      int64\n",
       "dtype: object"
      ]
     },
     "execution_count": 7,
     "metadata": {},
     "output_type": "execute_result"
    }
   ],
   "source": [
    "df.dtypes"
   ]
  },
  {
   "cell_type": "code",
   "execution_count": 8,
   "id": "27dea8c5",
   "metadata": {},
   "outputs": [
    {
     "data": {
      "image/png": "[encoded data removed]",
      "text/plain": [
       "<Figure size 432x288 with 1 Axes>"
      ]
     },
     "metadata": {
      "needs_background": "light"
     },
     "output_type": "display_data"
    }
   ],
   "source": [
    "sns.countplot(data=df, x=\"generation_id\");"
   ]
  },
  {
   "cell_type": "code",
   "execution_count": 9,
   "id": "f196d811",
   "metadata": {},
   "outputs": [
    {
     "data": {
      "image/png": "[encoded data removed]",
      "text/plain": [
       "<Figure size 432x288 with 1 Axes>"
      ]
     },
     "metadata": {
      "needs_background": "light"
     },
     "output_type": "display_data"
    }
   ],
   "source": [
    "df.generation_id.value_counts().plot(kind=\"bar\");"
   ]
  },
  {
   "cell_type": "code",
   "execution_count": 10,
   "id": "f0646135",
   "metadata": {},
   "outputs": [],
   "source": [
    "base_color=sns.color_palette()[3]"
   ]
  },
  {
   "cell_type": "code",
   "execution_count": 11,
   "id": "dd9097e0",
   "metadata": {},
   "outputs": [
    {
     "data": {
      "image/png": "[encoded data removed]",
      "text/plain": [
       "<Figure size 432x288 with 1 Axes>"
      ]
     },
     "metadata": {
      "needs_background": "light"
     },
     "output_type": "display_data"
    }
   ],
   "source": [
    "sns.countplot(data=df, x=\"generation_id\", color=base_color);"
   ]
  },
  {
   "cell_type": "code",
   "execution_count": 12,
   "id": "a1de7794",
   "metadata": {},
   "outputs": [],
   "source": [
    "#to have all these in order\n",
    "gen_order=df['generation_id'].value_counts().index"
   ]
  },
  {
   "cell_type": "code",
   "execution_count": 13,
   "id": "9e2a240e",
   "metadata": {},
   "outputs": [
    {
     "data": {
      "text/plain": [
       "Index(['5', '1', '3', '4', '2', '7', '6'], dtype='object')"
      ]
     },
     "execution_count": 13,
     "metadata": {},
     "output_type": "execute_result"
    }
   ],
   "source": [
    "gen_order"
   ]
  },
  {
   "cell_type": "code",
   "execution_count": 14,
   "id": "669590ba",
   "metadata": {
    "scrolled": true
   },
   "outputs": [
    {
     "data": {
      "image/png": "[encoded data removed]",
      "text/plain": [
       "<Figure size 432x288 with 1 Axes>"
      ]
     },
     "metadata": {
      "needs_background": "light"
     },
     "output_type": "display_data"
    }
   ],
   "source": [
    "sns.countplot(data=df, x='generation_id', color=sns.color_palette()[2],order=gen_order);"
   ]
  },
  {
   "cell_type": "code",
   "execution_count": 15,
   "id": "9f322226",
   "metadata": {},
   "outputs": [],
   "source": [
    "#lets visualize another qualitative data i.e. type and we will start with type 1\n",
    "#lets select our base color\n",
    "base_color=sns.color_palette()[3]"
   ]
  },
  {
   "cell_type": "code",
   "execution_count": 16,
   "id": "9f2ed264",
   "metadata": {},
   "outputs": [
    {
     "data": {
      "image/png": "[encoded data removed]",
      "text/plain": [
       "<Figure size 432x288 with 1 Axes>"
      ]
     },
     "metadata": {
      "needs_background": "light"
     },
     "output_type": "display_data"
    }
   ],
   "source": [
    "sns.countplot(data=df, x=\"type_1\", color=base_color);"
   ]
  },
  {
   "cell_type": "code",
   "execution_count": 17,
   "id": "c52f190d",
   "metadata": {},
   "outputs": [
    {
     "data": {
      "image/png": "[encoded data removed]",
      "text/plain": [
       "<Figure size 432x288 with 1 Axes>"
      ]
     },
     "metadata": {
      "needs_background": "light"
     },
     "output_type": "display_data"
    }
   ],
   "source": [
    "#we need to reduce the label crowding by rotating the values\n",
    "sns.countplot(data=df, x=\"type_1\", color=base_color);\n",
    "plt.xticks(rotation=90);"
   ]
  },
  {
   "cell_type": "code",
   "execution_count": 18,
   "id": "b84c588e",
   "metadata": {},
   "outputs": [
    {
     "data": {
      "image/png": "[encoded data removed]",
      "text/plain": [
       "<Figure size 432x288 with 1 Axes>"
      ]
     },
     "metadata": {
      "needs_background": "light"
     },
     "output_type": "display_data"
    }
   ],
   "source": [
    "#or simply make a horizontal bar chart buy changing the x to y\n",
    "sns.countplot(data=df, y=\"type_1\", color=base_color,);"
   ]
  },
  {
   "cell_type": "code",
   "execution_count": 19,
   "id": "66ae6d73",
   "metadata": {},
   "outputs": [],
   "source": [
    "order_ = df['type_1'].value_counts().index"
   ]
  },
  {
   "cell_type": "code",
   "execution_count": 20,
   "id": "1730c144",
   "metadata": {},
   "outputs": [
    {
     "data": {
      "text/plain": [
       "Index(['water', 'normal', 'grass', 'bug', 'fire', 'psychic', 'rock',\n",
       "       'electric', 'poison', 'ground', 'dark', 'fighting', 'ghost', 'dragon',\n",
       "       'steel', 'ice', 'fairy', 'flying'],\n",
       "      dtype='object')"
      ]
     },
     "execution_count": 20,
     "metadata": {},
     "output_type": "execute_result"
    }
   ],
   "source": [
    "order_"
   ]
  },
  {
   "cell_type": "code",
   "execution_count": 21,
   "id": "5a70fbc7",
   "metadata": {},
   "outputs": [
    {
     "data": {
      "image/png": "[encoded data removed]",
      "text/plain": [
       "<Figure size 432x288 with 1 Axes>"
      ]
     },
     "metadata": {
      "needs_background": "light"
     },
     "output_type": "display_data"
    }
   ],
   "source": [
    "sns.countplot(data=df, y=\"type_1\", color=base_color,order=order_);"
   ]
  },
  {
   "cell_type": "code",
   "execution_count": 22,
   "id": "efa73f41",
   "metadata": {},
   "outputs": [
    {
     "data": {
      "image/png": "[encoded data removed]",
      "text/plain": [
       "<Figure size 432x288 with 1 Axes>"
      ]
     },
     "metadata": {
      "needs_background": "light"
     },
     "output_type": "display_data"
    }
   ],
   "source": [
    "df['type_1'].value_counts().plot(kind='bar',color='black');"
   ]
  },
  {
   "cell_type": "code",
   "execution_count": 23,
   "id": "63395fed",
   "metadata": {},
   "outputs": [
    {
     "data": {
      "text/html": [
       "<div>\n",
       "<style scoped>\n",
       "    .dataframe tbody tr th:only-of-type {\n",
       "        vertical-align: middle;\n",
       "    }\n",
       "\n",
       "    .dataframe tbody tr th {\n",
       "        vertical-align: top;\n",
       "    }\n",
       "\n",
       "    .dataframe thead th {\n",
       "        text-align: right;\n",
       "    }\n",
       "</style>\n",
       "<table border=\"1\" class=\"dataframe\">\n",
       "  <thead>\n",
       "    <tr style=\"text-align: right;\">\n",
       "      <th></th>\n",
       "      <th>id</th>\n",
       "      <th>species</th>\n",
       "      <th>generation_id</th>\n",
       "      <th>height</th>\n",
       "      <th>weight</th>\n",
       "      <th>base_experience</th>\n",
       "      <th>type_1</th>\n",
       "      <th>type_2</th>\n",
       "      <th>hp</th>\n",
       "      <th>attack</th>\n",
       "      <th>defense</th>\n",
       "      <th>speed</th>\n",
       "      <th>special-attack</th>\n",
       "      <th>special-defense</th>\n",
       "    </tr>\n",
       "  </thead>\n",
       "  <tbody>\n",
       "    <tr>\n",
       "      <th>0</th>\n",
       "      <td>1</td>\n",
       "      <td>bulbasaur</td>\n",
       "      <td>1</td>\n",
       "      <td>0.7</td>\n",
       "      <td>6.9</td>\n",
       "      <td>64</td>\n",
       "      <td>grass</td>\n",
       "      <td>poison</td>\n",
       "      <td>45</td>\n",
       "      <td>49</td>\n",
       "      <td>49</td>\n",
       "      <td>45</td>\n",
       "      <td>65</td>\n",
       "      <td>65</td>\n",
       "    </tr>\n",
       "    <tr>\n",
       "      <th>1</th>\n",
       "      <td>2</td>\n",
       "      <td>ivysaur</td>\n",
       "      <td>1</td>\n",
       "      <td>1.0</td>\n",
       "      <td>13.0</td>\n",
       "      <td>142</td>\n",
       "      <td>grass</td>\n",
       "      <td>poison</td>\n",
       "      <td>60</td>\n",
       "      <td>62</td>\n",
       "      <td>63</td>\n",
       "      <td>60</td>\n",
       "      <td>80</td>\n",
       "      <td>80</td>\n",
       "    </tr>\n",
       "    <tr>\n",
       "      <th>2</th>\n",
       "      <td>3</td>\n",
       "      <td>venusaur</td>\n",
       "      <td>1</td>\n",
       "      <td>2.0</td>\n",
       "      <td>100.0</td>\n",
       "      <td>236</td>\n",
       "      <td>grass</td>\n",
       "      <td>poison</td>\n",
       "      <td>80</td>\n",
       "      <td>82</td>\n",
       "      <td>83</td>\n",
       "      <td>80</td>\n",
       "      <td>100</td>\n",
       "      <td>100</td>\n",
       "    </tr>\n",
       "    <tr>\n",
       "      <th>3</th>\n",
       "      <td>4</td>\n",
       "      <td>charmander</td>\n",
       "      <td>1</td>\n",
       "      <td>0.6</td>\n",
       "      <td>8.5</td>\n",
       "      <td>62</td>\n",
       "      <td>fire</td>\n",
       "      <td>NaN</td>\n",
       "      <td>39</td>\n",
       "      <td>52</td>\n",
       "      <td>43</td>\n",
       "      <td>65</td>\n",
       "      <td>60</td>\n",
       "      <td>50</td>\n",
       "    </tr>\n",
       "    <tr>\n",
       "      <th>4</th>\n",
       "      <td>5</td>\n",
       "      <td>charmeleon</td>\n",
       "      <td>1</td>\n",
       "      <td>1.1</td>\n",
       "      <td>19.0</td>\n",
       "      <td>142</td>\n",
       "      <td>fire</td>\n",
       "      <td>NaN</td>\n",
       "      <td>58</td>\n",
       "      <td>64</td>\n",
       "      <td>58</td>\n",
       "      <td>80</td>\n",
       "      <td>80</td>\n",
       "      <td>65</td>\n",
       "    </tr>\n",
       "    <tr>\n",
       "      <th>...</th>\n",
       "      <td>...</td>\n",
       "      <td>...</td>\n",
       "      <td>...</td>\n",
       "      <td>...</td>\n",
       "      <td>...</td>\n",
       "      <td>...</td>\n",
       "      <td>...</td>\n",
       "      <td>...</td>\n",
       "      <td>...</td>\n",
       "      <td>...</td>\n",
       "      <td>...</td>\n",
       "      <td>...</td>\n",
       "      <td>...</td>\n",
       "      <td>...</td>\n",
       "    </tr>\n",
       "    <tr>\n",
       "      <th>802</th>\n",
       "      <td>803</td>\n",
       "      <td>poipole</td>\n",
       "      <td>7</td>\n",
       "      <td>0.6</td>\n",
       "      <td>1.8</td>\n",
       "      <td>189</td>\n",
       "      <td>poison</td>\n",
       "      <td>NaN</td>\n",
       "      <td>67</td>\n",
       "      <td>73</td>\n",
       "      <td>67</td>\n",
       "      <td>73</td>\n",
       "      <td>73</td>\n",
       "      <td>67</td>\n",
       "    </tr>\n",
       "    <tr>\n",
       "      <th>803</th>\n",
       "      <td>804</td>\n",
       "      <td>naganadel</td>\n",
       "      <td>7</td>\n",
       "      <td>3.6</td>\n",
       "      <td>150.0</td>\n",
       "      <td>243</td>\n",
       "      <td>poison</td>\n",
       "      <td>dragon</td>\n",
       "      <td>73</td>\n",
       "      <td>73</td>\n",
       "      <td>73</td>\n",
       "      <td>121</td>\n",
       "      <td>127</td>\n",
       "      <td>73</td>\n",
       "    </tr>\n",
       "    <tr>\n",
       "      <th>804</th>\n",
       "      <td>805</td>\n",
       "      <td>stakataka</td>\n",
       "      <td>7</td>\n",
       "      <td>5.5</td>\n",
       "      <td>820.0</td>\n",
       "      <td>257</td>\n",
       "      <td>rock</td>\n",
       "      <td>steel</td>\n",
       "      <td>61</td>\n",
       "      <td>131</td>\n",
       "      <td>211</td>\n",
       "      <td>13</td>\n",
       "      <td>53</td>\n",
       "      <td>101</td>\n",
       "    </tr>\n",
       "    <tr>\n",
       "      <th>805</th>\n",
       "      <td>806</td>\n",
       "      <td>blacephalon</td>\n",
       "      <td>7</td>\n",
       "      <td>1.8</td>\n",
       "      <td>13.0</td>\n",
       "      <td>257</td>\n",
       "      <td>fire</td>\n",
       "      <td>ghost</td>\n",
       "      <td>53</td>\n",
       "      <td>127</td>\n",
       "      <td>53</td>\n",
       "      <td>107</td>\n",
       "      <td>151</td>\n",
       "      <td>79</td>\n",
       "    </tr>\n",
       "    <tr>\n",
       "      <th>806</th>\n",
       "      <td>807</td>\n",
       "      <td>zeraora</td>\n",
       "      <td>7</td>\n",
       "      <td>1.5</td>\n",
       "      <td>44.5</td>\n",
       "      <td>270</td>\n",
       "      <td>electric</td>\n",
       "      <td>NaN</td>\n",
       "      <td>88</td>\n",
       "      <td>112</td>\n",
       "      <td>75</td>\n",
       "      <td>143</td>\n",
       "      <td>102</td>\n",
       "      <td>80</td>\n",
       "    </tr>\n",
       "  </tbody>\n",
       "</table>\n",
       "<p>807 rows × 14 columns</p>\n",
       "</div>"
      ],
      "text/plain": [
       "      id      species generation_id  height  weight  base_experience  \\\n",
       "0      1    bulbasaur             1     0.7     6.9               64   \n",
       "1      2      ivysaur             1     1.0    13.0              142   \n",
       "2      3     venusaur             1     2.0   100.0              236   \n",
       "3      4   charmander             1     0.6     8.5               62   \n",
       "4      5   charmeleon             1     1.1    19.0              142   \n",
       "..   ...          ...           ...     ...     ...              ...   \n",
       "802  803      poipole             7     0.6     1.8              189   \n",
       "803  804    naganadel             7     3.6   150.0              243   \n",
       "804  805    stakataka             7     5.5   820.0              257   \n",
       "805  806  blacephalon             7     1.8    13.0              257   \n",
       "806  807      zeraora             7     1.5    44.5              270   \n",
       "\n",
       "       type_1  type_2  hp  attack  defense  speed  special-attack  \\\n",
       "0       grass  poison  45      49       49     45              65   \n",
       "1       grass  poison  60      62       63     60              80   \n",
       "2       grass  poison  80      82       83     80             100   \n",
       "3        fire     NaN  39      52       43     65              60   \n",
       "4        fire     NaN  58      64       58     80              80   \n",
       "..        ...     ...  ..     ...      ...    ...             ...   \n",
       "802    poison     NaN  67      73       67     73              73   \n",
       "803    poison  dragon  73      73       73    121             127   \n",
       "804      rock   steel  61     131      211     13              53   \n",
       "805      fire   ghost  53     127       53    107             151   \n",
       "806  electric     NaN  88     112       75    143             102   \n",
       "\n",
       "     special-defense  \n",
       "0                 65  \n",
       "1                 80  \n",
       "2                100  \n",
       "3                 50  \n",
       "4                 65  \n",
       "..               ...  \n",
       "802               67  \n",
       "803               73  \n",
       "804              101  \n",
       "805               79  \n",
       "806               80  \n",
       "\n",
       "[807 rows x 14 columns]"
      ]
     },
     "execution_count": 23,
     "metadata": {},
     "output_type": "execute_result"
    }
   ],
   "source": [
    "df"
   ]
  },
  {
   "cell_type": "code",
   "execution_count": 24,
   "id": "c8040844",
   "metadata": {},
   "outputs": [],
   "source": [
    "pkmn_types=df.melt(id_vars=['id','species'],var_name=\"type_level\",value_name=\"type\",value_vars=['type_1','type_2']).dropna()"
   ]
  },
  {
   "cell_type": "code",
   "execution_count": 25,
   "id": "074f0d7b",
   "metadata": {},
   "outputs": [
    {
     "data": {
      "text/html": [
       "<div>\n",
       "<style scoped>\n",
       "    .dataframe tbody tr th:only-of-type {\n",
       "        vertical-align: middle;\n",
       "    }\n",
       "\n",
       "    .dataframe tbody tr th {\n",
       "        vertical-align: top;\n",
       "    }\n",
       "\n",
       "    .dataframe thead th {\n",
       "        text-align: right;\n",
       "    }\n",
       "</style>\n",
       "<table border=\"1\" class=\"dataframe\">\n",
       "  <thead>\n",
       "    <tr style=\"text-align: right;\">\n",
       "      <th></th>\n",
       "      <th>id</th>\n",
       "      <th>species</th>\n",
       "      <th>type_level</th>\n",
       "      <th>type</th>\n",
       "    </tr>\n",
       "  </thead>\n",
       "  <tbody>\n",
       "    <tr>\n",
       "      <th>0</th>\n",
       "      <td>1</td>\n",
       "      <td>bulbasaur</td>\n",
       "      <td>type_1</td>\n",
       "      <td>grass</td>\n",
       "    </tr>\n",
       "    <tr>\n",
       "      <th>1</th>\n",
       "      <td>2</td>\n",
       "      <td>ivysaur</td>\n",
       "      <td>type_1</td>\n",
       "      <td>grass</td>\n",
       "    </tr>\n",
       "    <tr>\n",
       "      <th>2</th>\n",
       "      <td>3</td>\n",
       "      <td>venusaur</td>\n",
       "      <td>type_1</td>\n",
       "      <td>grass</td>\n",
       "    </tr>\n",
       "    <tr>\n",
       "      <th>3</th>\n",
       "      <td>4</td>\n",
       "      <td>charmander</td>\n",
       "      <td>type_1</td>\n",
       "      <td>fire</td>\n",
       "    </tr>\n",
       "    <tr>\n",
       "      <th>4</th>\n",
       "      <td>5</td>\n",
       "      <td>charmeleon</td>\n",
       "      <td>type_1</td>\n",
       "      <td>fire</td>\n",
       "    </tr>\n",
       "  </tbody>\n",
       "</table>\n",
       "</div>"
      ],
      "text/plain": [
       "   id     species type_level   type\n",
       "0   1   bulbasaur     type_1  grass\n",
       "1   2     ivysaur     type_1  grass\n",
       "2   3    venusaur     type_1  grass\n",
       "3   4  charmander     type_1   fire\n",
       "4   5  charmeleon     type_1   fire"
      ]
     },
     "execution_count": 25,
     "metadata": {},
     "output_type": "execute_result"
    }
   ],
   "source": [
    "pkmn_types.head()"
   ]
  },
  {
   "cell_type": "code",
   "execution_count": 26,
   "id": "38f4028e",
   "metadata": {},
   "outputs": [],
   "source": [
    "pkmn_types.rename(columns={'species':'identifier'},inplace=True)"
   ]
  },
  {
   "cell_type": "code",
   "execution_count": 27,
   "id": "7d8489e8",
   "metadata": {},
   "outputs": [
    {
     "data": {
      "text/html": [
       "<div>\n",
       "<style scoped>\n",
       "    .dataframe tbody tr th:only-of-type {\n",
       "        vertical-align: middle;\n",
       "    }\n",
       "\n",
       "    .dataframe tbody tr th {\n",
       "        vertical-align: top;\n",
       "    }\n",
       "\n",
       "    .dataframe thead th {\n",
       "        text-align: right;\n",
       "    }\n",
       "</style>\n",
       "<table border=\"1\" class=\"dataframe\">\n",
       "  <thead>\n",
       "    <tr style=\"text-align: right;\">\n",
       "      <th></th>\n",
       "      <th>id</th>\n",
       "      <th>identifier</th>\n",
       "      <th>type_level</th>\n",
       "      <th>type</th>\n",
       "    </tr>\n",
       "  </thead>\n",
       "  <tbody>\n",
       "    <tr>\n",
       "      <th>0</th>\n",
       "      <td>1</td>\n",
       "      <td>bulbasaur</td>\n",
       "      <td>type_1</td>\n",
       "      <td>grass</td>\n",
       "    </tr>\n",
       "    <tr>\n",
       "      <th>1</th>\n",
       "      <td>2</td>\n",
       "      <td>ivysaur</td>\n",
       "      <td>type_1</td>\n",
       "      <td>grass</td>\n",
       "    </tr>\n",
       "    <tr>\n",
       "      <th>2</th>\n",
       "      <td>3</td>\n",
       "      <td>venusaur</td>\n",
       "      <td>type_1</td>\n",
       "      <td>grass</td>\n",
       "    </tr>\n",
       "    <tr>\n",
       "      <th>3</th>\n",
       "      <td>4</td>\n",
       "      <td>charmander</td>\n",
       "      <td>type_1</td>\n",
       "      <td>fire</td>\n",
       "    </tr>\n",
       "    <tr>\n",
       "      <th>4</th>\n",
       "      <td>5</td>\n",
       "      <td>charmeleon</td>\n",
       "      <td>type_1</td>\n",
       "      <td>fire</td>\n",
       "    </tr>\n",
       "  </tbody>\n",
       "</table>\n",
       "</div>"
      ],
      "text/plain": [
       "   id  identifier type_level   type\n",
       "0   1   bulbasaur     type_1  grass\n",
       "1   2     ivysaur     type_1  grass\n",
       "2   3    venusaur     type_1  grass\n",
       "3   4  charmander     type_1   fire\n",
       "4   5  charmeleon     type_1   fire"
      ]
     },
     "execution_count": 27,
     "metadata": {},
     "output_type": "execute_result"
    }
   ],
   "source": [
    "pkmn_types.head()"
   ]
  },
  {
   "cell_type": "code",
   "execution_count": 28,
   "id": "386dc39d",
   "metadata": {},
   "outputs": [],
   "source": [
    "type_counts=pkmn_types['type'].value_counts()"
   ]
  },
  {
   "cell_type": "code",
   "execution_count": 29,
   "id": "42903767",
   "metadata": {},
   "outputs": [
    {
     "data": {
      "text/plain": [
       "water       131\n",
       "normal      109\n",
       "flying       98\n",
       "grass        97\n",
       "psychic      82\n",
       "bug          77\n",
       "poison       66\n",
       "ground       64\n",
       "fire         64\n",
       "rock         60\n",
       "fighting     54\n",
       "electric     48\n",
       "fairy        47\n",
       "steel        47\n",
       "dark         46\n",
       "dragon       45\n",
       "ghost        43\n",
       "ice          34\n",
       "Name: type, dtype: int64"
      ]
     },
     "execution_count": 29,
     "metadata": {},
     "output_type": "execute_result"
    }
   ],
   "source": [
    "type_counts"
   ]
  },
  {
   "cell_type": "code",
   "execution_count": 30,
   "id": "3b9b357c",
   "metadata": {},
   "outputs": [],
   "source": [
    "type_order=type_counts.index"
   ]
  },
  {
   "cell_type": "code",
   "execution_count": 31,
   "id": "565caceb",
   "metadata": {},
   "outputs": [
    {
     "data": {
      "text/plain": [
       "Index(['water', 'normal', 'flying', 'grass', 'psychic', 'bug', 'poison',\n",
       "       'ground', 'fire', 'rock', 'fighting', 'electric', 'fairy', 'steel',\n",
       "       'dark', 'dragon', 'ghost', 'ice'],\n",
       "      dtype='object')"
      ]
     },
     "execution_count": 31,
     "metadata": {},
     "output_type": "execute_result"
    }
   ],
   "source": [
    "type_order"
   ]
  },
  {
   "cell_type": "code",
   "execution_count": 32,
   "id": "bb8cd6c4",
   "metadata": {},
   "outputs": [
    {
     "data": {
      "image/png": "[encoded data removed]",
      "text/plain": [
       "<Figure size 432x288 with 1 Axes>"
      ]
     },
     "metadata": {
      "needs_background": "light"
     },
     "output_type": "display_data"
    }
   ],
   "source": [
    "sns.countplot(data=pkmn_types,y=\"type\",color=sns.color_palette()[3],order=type_order);"
   ]
  },
  {
   "cell_type": "markdown",
   "id": "9d38c152",
   "metadata": {},
   "source": [
    "### Absolute vs Relative Freq"
   ]
  },
  {
   "cell_type": "code",
   "execution_count": 33,
   "id": "193951c8",
   "metadata": {},
   "outputs": [],
   "source": [
    "n_pokemon=df.shape[0]"
   ]
  },
  {
   "cell_type": "code",
   "execution_count": 34,
   "id": "9d3a4ac5",
   "metadata": {},
   "outputs": [
    {
     "data": {
      "text/plain": [
       "807"
      ]
     },
     "execution_count": 34,
     "metadata": {},
     "output_type": "execute_result"
    }
   ],
   "source": [
    "n_pokemon"
   ]
  },
  {
   "cell_type": "code",
   "execution_count": 35,
   "id": "a47af447",
   "metadata": {},
   "outputs": [],
   "source": [
    "max_type_count=type_counts[0]"
   ]
  },
  {
   "cell_type": "code",
   "execution_count": 36,
   "id": "d32e3c21",
   "metadata": {},
   "outputs": [
    {
     "data": {
      "text/plain": [
       "131"
      ]
     },
     "execution_count": 36,
     "metadata": {},
     "output_type": "execute_result"
    }
   ],
   "source": [
    "max_type_count"
   ]
  },
  {
   "cell_type": "code",
   "execution_count": 37,
   "id": "32427b2e",
   "metadata": {},
   "outputs": [],
   "source": [
    "max_prop=max_type_count/n_pokemon"
   ]
  },
  {
   "cell_type": "code",
   "execution_count": 38,
   "id": "02d2878d",
   "metadata": {},
   "outputs": [
    {
     "data": {
      "text/plain": [
       "0.1623296158612144"
      ]
     },
     "execution_count": 38,
     "metadata": {},
     "output_type": "execute_result"
    }
   ],
   "source": [
    "max_prop"
   ]
  },
  {
   "cell_type": "code",
   "execution_count": 39,
   "id": "3563fca5",
   "metadata": {},
   "outputs": [],
   "source": [
    "tick_props=np.arange(0,max_prop,0.02)"
   ]
  },
  {
   "cell_type": "code",
   "execution_count": 40,
   "id": "e7fef3c8",
   "metadata": {},
   "outputs": [
    {
     "data": {
      "text/plain": [
       "array([0.  , 0.02, 0.04, 0.06, 0.08, 0.1 , 0.12, 0.14, 0.16])"
      ]
     },
     "execution_count": 40,
     "metadata": {},
     "output_type": "execute_result"
    }
   ],
   "source": [
    "tick_props"
   ]
  },
  {
   "cell_type": "code",
   "execution_count": 41,
   "id": "0aa8f5d8",
   "metadata": {},
   "outputs": [],
   "source": [
    "tick_names=['{:.2f}'.format(v) for v in tick_props]"
   ]
  },
  {
   "cell_type": "code",
   "execution_count": 42,
   "id": "c6336998",
   "metadata": {},
   "outputs": [
    {
     "data": {
      "text/plain": [
       "['0.00', '0.02', '0.04', '0.06', '0.08', '0.10', '0.12', '0.14', '0.16']"
      ]
     },
     "execution_count": 42,
     "metadata": {},
     "output_type": "execute_result"
    }
   ],
   "source": [
    "tick_names"
   ]
  },
  {
   "cell_type": "code",
   "execution_count": 43,
   "id": "c145e260",
   "metadata": {},
   "outputs": [
    {
     "data": {
      "image/png": "[encoded data removed]",
      "text/plain": [
       "<Figure size 432x288 with 1 Axes>"
      ]
     },
     "metadata": {
      "needs_background": "light"
     },
     "output_type": "display_data"
    }
   ],
   "source": [
    "sns.countplot(data=pkmn_types,y=\"type\",color=sns.color_palette()[3],order=type_order);\n",
    "plt.xticks(tick_props * n_pokemon,tick_names);\n",
    "plt.xlabel('Proportion');"
   ]
  },
  {
   "cell_type": "code",
   "execution_count": 44,
   "id": "2659dce8",
   "metadata": {
    "scrolled": true
   },
   "outputs": [
    {
     "data": {
      "image/png": "[encoded data removed]",
      "text/plain": [
       "<Figure size 432x288 with 1 Axes>"
      ]
     },
     "metadata": {
      "needs_background": "light"
     },
     "output_type": "display_data"
    }
   ],
   "source": [
    "sns.countplot(data=pkmn_types,y=\"type\",color=sns.color_palette()[3],order=type_order);\n",
    "plt.xticks(tick_props * n_pokemon,tick_names);\n",
    "plt.xlabel('Proportion');\n",
    "\n",
    "for i in range (type_counts.shape[0]):\n",
    "    # Remember, type_counts contains the frequency of unique values in the `type` column in decreasing order.\n",
    "    count = type_counts[i]\n",
    "    # Convert count into a percentage, and then into string\n",
    "    pct_string = '{:0.1f}'.format(100*count/n_pokemon)\n",
    "    # Print the string value on the bar. \n",
    "    # Read more about the arguments of text() function [here](https://matplotlib.org/3.1.1/api/_as_gen/matplotlib.pyplot.text.html)\n",
    "    plt.text(count+1, i, pct_string, va='center')"
   ]
  },
  {
   "cell_type": "code",
   "execution_count": 45,
   "id": "fddf85fe",
   "metadata": {},
   "outputs": [],
   "source": [
    "#counting missing data\n",
    "df2=pd.read_csv(\"sales-data.csv\")"
   ]
  },
  {
   "cell_type": "code",
   "execution_count": 46,
   "id": "7a3af714",
   "metadata": {},
   "outputs": [
    {
     "data": {
      "text/html": [
       "<div>\n",
       "<style scoped>\n",
       "    .dataframe tbody tr th:only-of-type {\n",
       "        vertical-align: middle;\n",
       "    }\n",
       "\n",
       "    .dataframe tbody tr th {\n",
       "        vertical-align: top;\n",
       "    }\n",
       "\n",
       "    .dataframe thead th {\n",
       "        text-align: right;\n",
       "    }\n",
       "</style>\n",
       "<table border=\"1\" class=\"dataframe\">\n",
       "  <thead>\n",
       "    <tr style=\"text-align: right;\">\n",
       "      <th></th>\n",
       "      <th>Store</th>\n",
       "      <th>Date</th>\n",
       "      <th>Temperature</th>\n",
       "      <th>Fuel_Price</th>\n",
       "      <th>MarkDown1</th>\n",
       "      <th>MarkDown2</th>\n",
       "      <th>MarkDown3</th>\n",
       "      <th>MarkDown4</th>\n",
       "      <th>MarkDown5</th>\n",
       "      <th>CPI</th>\n",
       "      <th>Unemployment</th>\n",
       "      <th>IsHoliday</th>\n",
       "    </tr>\n",
       "  </thead>\n",
       "  <tbody>\n",
       "    <tr>\n",
       "      <th>5719</th>\n",
       "      <td>32</td>\n",
       "      <td>29/07/2011</td>\n",
       "      <td>75.91</td>\n",
       "      <td>3.547</td>\n",
       "      <td>NaN</td>\n",
       "      <td>NaN</td>\n",
       "      <td>NaN</td>\n",
       "      <td>NaN</td>\n",
       "      <td>NaN</td>\n",
       "      <td>193.711525</td>\n",
       "      <td>8.622</td>\n",
       "      <td>False</td>\n",
       "    </tr>\n",
       "    <tr>\n",
       "      <th>3447</th>\n",
       "      <td>19</td>\n",
       "      <td>17/05/2013</td>\n",
       "      <td>52.54</td>\n",
       "      <td>3.790</td>\n",
       "      <td>11529.47</td>\n",
       "      <td>581.88</td>\n",
       "      <td>11.42</td>\n",
       "      <td>2496.68</td>\n",
       "      <td>5104.96</td>\n",
       "      <td>NaN</td>\n",
       "      <td>NaN</td>\n",
       "      <td>False</td>\n",
       "    </tr>\n",
       "    <tr>\n",
       "      <th>2983</th>\n",
       "      <td>17</td>\n",
       "      <td>17/06/2011</td>\n",
       "      <td>56.61</td>\n",
       "      <td>3.704</td>\n",
       "      <td>NaN</td>\n",
       "      <td>NaN</td>\n",
       "      <td>NaN</td>\n",
       "      <td>NaN</td>\n",
       "      <td>NaN</td>\n",
       "      <td>129.043200</td>\n",
       "      <td>6.774</td>\n",
       "      <td>False</td>\n",
       "    </tr>\n",
       "    <tr>\n",
       "      <th>5797</th>\n",
       "      <td>32</td>\n",
       "      <td>25/01/2013</td>\n",
       "      <td>40.40</td>\n",
       "      <td>2.872</td>\n",
       "      <td>4609.18</td>\n",
       "      <td>1969.26</td>\n",
       "      <td>1.20</td>\n",
       "      <td>29.07</td>\n",
       "      <td>1937.03</td>\n",
       "      <td>200.815099</td>\n",
       "      <td>7.107</td>\n",
       "      <td>False</td>\n",
       "    </tr>\n",
       "    <tr>\n",
       "      <th>5722</th>\n",
       "      <td>32</td>\n",
       "      <td>19/08/2011</td>\n",
       "      <td>73.72</td>\n",
       "      <td>3.499</td>\n",
       "      <td>NaN</td>\n",
       "      <td>NaN</td>\n",
       "      <td>NaN</td>\n",
       "      <td>NaN</td>\n",
       "      <td>NaN</td>\n",
       "      <td>194.250063</td>\n",
       "      <td>8.622</td>\n",
       "      <td>False</td>\n",
       "    </tr>\n",
       "    <tr>\n",
       "      <th>1027</th>\n",
       "      <td>6</td>\n",
       "      <td>04/05/2012</td>\n",
       "      <td>77.66</td>\n",
       "      <td>3.749</td>\n",
       "      <td>13643.53</td>\n",
       "      <td>266.00</td>\n",
       "      <td>117.27</td>\n",
       "      <td>5455.98</td>\n",
       "      <td>2773.56</td>\n",
       "      <td>223.280054</td>\n",
       "      <td>5.964</td>\n",
       "      <td>False</td>\n",
       "    </tr>\n",
       "    <tr>\n",
       "      <th>1767</th>\n",
       "      <td>10</td>\n",
       "      <td>27/07/2012</td>\n",
       "      <td>83.98</td>\n",
       "      <td>3.769</td>\n",
       "      <td>9511.34</td>\n",
       "      <td>NaN</td>\n",
       "      <td>8.87</td>\n",
       "      <td>16376.33</td>\n",
       "      <td>3062.22</td>\n",
       "      <td>130.719581</td>\n",
       "      <td>7.170</td>\n",
       "      <td>False</td>\n",
       "    </tr>\n",
       "    <tr>\n",
       "      <th>101</th>\n",
       "      <td>1</td>\n",
       "      <td>13/01/2012</td>\n",
       "      <td>48.53</td>\n",
       "      <td>3.261</td>\n",
       "      <td>5183.29</td>\n",
       "      <td>8025.87</td>\n",
       "      <td>42.24</td>\n",
       "      <td>453.08</td>\n",
       "      <td>3719.38</td>\n",
       "      <td>219.892526</td>\n",
       "      <td>7.348</td>\n",
       "      <td>False</td>\n",
       "    </tr>\n",
       "    <tr>\n",
       "      <th>393</th>\n",
       "      <td>3</td>\n",
       "      <td>27/08/2010</td>\n",
       "      <td>86.15</td>\n",
       "      <td>2.619</td>\n",
       "      <td>NaN</td>\n",
       "      <td>NaN</td>\n",
       "      <td>NaN</td>\n",
       "      <td>NaN</td>\n",
       "      <td>NaN</td>\n",
       "      <td>214.889794</td>\n",
       "      <td>7.346</td>\n",
       "      <td>False</td>\n",
       "    </tr>\n",
       "    <tr>\n",
       "      <th>4626</th>\n",
       "      <td>26</td>\n",
       "      <td>22/07/2011</td>\n",
       "      <td>69.52</td>\n",
       "      <td>3.882</td>\n",
       "      <td>NaN</td>\n",
       "      <td>NaN</td>\n",
       "      <td>NaN</td>\n",
       "      <td>NaN</td>\n",
       "      <td>NaN</td>\n",
       "      <td>135.873839</td>\n",
       "      <td>7.767</td>\n",
       "      <td>False</td>\n",
       "    </tr>\n",
       "  </tbody>\n",
       "</table>\n",
       "</div>"
      ],
      "text/plain": [
       "      Store        Date  Temperature  Fuel_Price  MarkDown1  MarkDown2  \\\n",
       "5719     32  29/07/2011        75.91       3.547        NaN        NaN   \n",
       "3447     19  17/05/2013        52.54       3.790   11529.47     581.88   \n",
       "2983     17  17/06/2011        56.61       3.704        NaN        NaN   \n",
       "5797     32  25/01/2013        40.40       2.872    4609.18    1969.26   \n",
       "5722     32  19/08/2011        73.72       3.499        NaN        NaN   \n",
       "1027      6  04/05/2012        77.66       3.749   13643.53     266.00   \n",
       "1767     10  27/07/2012        83.98       3.769    9511.34        NaN   \n",
       "101       1  13/01/2012        48.53       3.261    5183.29    8025.87   \n",
       "393       3  27/08/2010        86.15       2.619        NaN        NaN   \n",
       "4626     26  22/07/2011        69.52       3.882        NaN        NaN   \n",
       "\n",
       "      MarkDown3  MarkDown4  MarkDown5         CPI  Unemployment  IsHoliday  \n",
       "5719        NaN        NaN        NaN  193.711525         8.622      False  \n",
       "3447      11.42    2496.68    5104.96         NaN           NaN      False  \n",
       "2983        NaN        NaN        NaN  129.043200         6.774      False  \n",
       "5797       1.20      29.07    1937.03  200.815099         7.107      False  \n",
       "5722        NaN        NaN        NaN  194.250063         8.622      False  \n",
       "1027     117.27    5455.98    2773.56  223.280054         5.964      False  \n",
       "1767       8.87   16376.33    3062.22  130.719581         7.170      False  \n",
       "101       42.24     453.08    3719.38  219.892526         7.348      False  \n",
       "393         NaN        NaN        NaN  214.889794         7.346      False  \n",
       "4626        NaN        NaN        NaN  135.873839         7.767      False  "
      ]
     },
     "execution_count": 46,
     "metadata": {},
     "output_type": "execute_result"
    }
   ],
   "source": [
    "df2.sample(10)"
   ]
  },
  {
   "cell_type": "code",
   "execution_count": 47,
   "id": "9132f77d",
   "metadata": {},
   "outputs": [
    {
     "data": {
      "text/plain": [
       "(8190, 12)"
      ]
     },
     "execution_count": 47,
     "metadata": {},
     "output_type": "execute_result"
    }
   ],
   "source": [
    "df2.shape"
   ]
  },
  {
   "cell_type": "code",
   "execution_count": 48,
   "id": "327984dd",
   "metadata": {},
   "outputs": [
    {
     "data": {
      "text/html": [
       "<div>\n",
       "<style scoped>\n",
       "    .dataframe tbody tr th:only-of-type {\n",
       "        vertical-align: middle;\n",
       "    }\n",
       "\n",
       "    .dataframe tbody tr th {\n",
       "        vertical-align: top;\n",
       "    }\n",
       "\n",
       "    .dataframe thead th {\n",
       "        text-align: right;\n",
       "    }\n",
       "</style>\n",
       "<table border=\"1\" class=\"dataframe\">\n",
       "  <thead>\n",
       "    <tr style=\"text-align: right;\">\n",
       "      <th></th>\n",
       "      <th>Store</th>\n",
       "      <th>Date</th>\n",
       "      <th>Temperature</th>\n",
       "      <th>Fuel_Price</th>\n",
       "      <th>MarkDown1</th>\n",
       "      <th>MarkDown2</th>\n",
       "      <th>MarkDown3</th>\n",
       "      <th>MarkDown4</th>\n",
       "      <th>MarkDown5</th>\n",
       "      <th>CPI</th>\n",
       "      <th>Unemployment</th>\n",
       "      <th>IsHoliday</th>\n",
       "    </tr>\n",
       "  </thead>\n",
       "  <tbody>\n",
       "    <tr>\n",
       "      <th>0</th>\n",
       "      <td>NaN</td>\n",
       "      <td>NaN</td>\n",
       "      <td>NaN</td>\n",
       "      <td>NaN</td>\n",
       "      <td>NaN</td>\n",
       "      <td>NaN</td>\n",
       "      <td>NaN</td>\n",
       "      <td>NaN</td>\n",
       "      <td>NaN</td>\n",
       "      <td>NaN</td>\n",
       "      <td>NaN</td>\n",
       "      <td>NaN</td>\n",
       "    </tr>\n",
       "    <tr>\n",
       "      <th>1</th>\n",
       "      <td>NaN</td>\n",
       "      <td>NaN</td>\n",
       "      <td>NaN</td>\n",
       "      <td>NaN</td>\n",
       "      <td>NaN</td>\n",
       "      <td>NaN</td>\n",
       "      <td>NaN</td>\n",
       "      <td>NaN</td>\n",
       "      <td>NaN</td>\n",
       "      <td>NaN</td>\n",
       "      <td>NaN</td>\n",
       "      <td>NaN</td>\n",
       "    </tr>\n",
       "    <tr>\n",
       "      <th>2</th>\n",
       "      <td>NaN</td>\n",
       "      <td>NaN</td>\n",
       "      <td>NaN</td>\n",
       "      <td>NaN</td>\n",
       "      <td>NaN</td>\n",
       "      <td>NaN</td>\n",
       "      <td>NaN</td>\n",
       "      <td>NaN</td>\n",
       "      <td>NaN</td>\n",
       "      <td>NaN</td>\n",
       "      <td>NaN</td>\n",
       "      <td>NaN</td>\n",
       "    </tr>\n",
       "    <tr>\n",
       "      <th>3</th>\n",
       "      <td>NaN</td>\n",
       "      <td>NaN</td>\n",
       "      <td>NaN</td>\n",
       "      <td>NaN</td>\n",
       "      <td>NaN</td>\n",
       "      <td>NaN</td>\n",
       "      <td>NaN</td>\n",
       "      <td>NaN</td>\n",
       "      <td>NaN</td>\n",
       "      <td>NaN</td>\n",
       "      <td>NaN</td>\n",
       "      <td>NaN</td>\n",
       "    </tr>\n",
       "    <tr>\n",
       "      <th>4</th>\n",
       "      <td>NaN</td>\n",
       "      <td>NaN</td>\n",
       "      <td>NaN</td>\n",
       "      <td>NaN</td>\n",
       "      <td>NaN</td>\n",
       "      <td>NaN</td>\n",
       "      <td>NaN</td>\n",
       "      <td>NaN</td>\n",
       "      <td>NaN</td>\n",
       "      <td>NaN</td>\n",
       "      <td>NaN</td>\n",
       "      <td>NaN</td>\n",
       "    </tr>\n",
       "    <tr>\n",
       "      <th>...</th>\n",
       "      <td>...</td>\n",
       "      <td>...</td>\n",
       "      <td>...</td>\n",
       "      <td>...</td>\n",
       "      <td>...</td>\n",
       "      <td>...</td>\n",
       "      <td>...</td>\n",
       "      <td>...</td>\n",
       "      <td>...</td>\n",
       "      <td>...</td>\n",
       "      <td>...</td>\n",
       "      <td>...</td>\n",
       "    </tr>\n",
       "    <tr>\n",
       "      <th>8185</th>\n",
       "      <td>NaN</td>\n",
       "      <td>NaN</td>\n",
       "      <td>NaN</td>\n",
       "      <td>NaN</td>\n",
       "      <td>NaN</td>\n",
       "      <td>NaN</td>\n",
       "      <td>NaN</td>\n",
       "      <td>NaN</td>\n",
       "      <td>NaN</td>\n",
       "      <td>NaN</td>\n",
       "      <td>NaN</td>\n",
       "      <td>NaN</td>\n",
       "    </tr>\n",
       "    <tr>\n",
       "      <th>8186</th>\n",
       "      <td>NaN</td>\n",
       "      <td>NaN</td>\n",
       "      <td>NaN</td>\n",
       "      <td>NaN</td>\n",
       "      <td>NaN</td>\n",
       "      <td>NaN</td>\n",
       "      <td>NaN</td>\n",
       "      <td>NaN</td>\n",
       "      <td>NaN</td>\n",
       "      <td>NaN</td>\n",
       "      <td>NaN</td>\n",
       "      <td>NaN</td>\n",
       "    </tr>\n",
       "    <tr>\n",
       "      <th>8187</th>\n",
       "      <td>NaN</td>\n",
       "      <td>NaN</td>\n",
       "      <td>NaN</td>\n",
       "      <td>NaN</td>\n",
       "      <td>NaN</td>\n",
       "      <td>NaN</td>\n",
       "      <td>NaN</td>\n",
       "      <td>NaN</td>\n",
       "      <td>NaN</td>\n",
       "      <td>NaN</td>\n",
       "      <td>NaN</td>\n",
       "      <td>NaN</td>\n",
       "    </tr>\n",
       "    <tr>\n",
       "      <th>8188</th>\n",
       "      <td>NaN</td>\n",
       "      <td>NaN</td>\n",
       "      <td>NaN</td>\n",
       "      <td>NaN</td>\n",
       "      <td>NaN</td>\n",
       "      <td>NaN</td>\n",
       "      <td>NaN</td>\n",
       "      <td>NaN</td>\n",
       "      <td>NaN</td>\n",
       "      <td>NaN</td>\n",
       "      <td>NaN</td>\n",
       "      <td>NaN</td>\n",
       "    </tr>\n",
       "    <tr>\n",
       "      <th>8189</th>\n",
       "      <td>NaN</td>\n",
       "      <td>NaN</td>\n",
       "      <td>NaN</td>\n",
       "      <td>NaN</td>\n",
       "      <td>NaN</td>\n",
       "      <td>NaN</td>\n",
       "      <td>NaN</td>\n",
       "      <td>NaN</td>\n",
       "      <td>NaN</td>\n",
       "      <td>NaN</td>\n",
       "      <td>NaN</td>\n",
       "      <td>NaN</td>\n",
       "    </tr>\n",
       "  </tbody>\n",
       "</table>\n",
       "<p>8190 rows × 12 columns</p>\n",
       "</div>"
      ],
      "text/plain": [
       "      Store Date  Temperature  Fuel_Price  MarkDown1  MarkDown2  MarkDown3  \\\n",
       "0       NaN  NaN          NaN         NaN        NaN        NaN        NaN   \n",
       "1       NaN  NaN          NaN         NaN        NaN        NaN        NaN   \n",
       "2       NaN  NaN          NaN         NaN        NaN        NaN        NaN   \n",
       "3       NaN  NaN          NaN         NaN        NaN        NaN        NaN   \n",
       "4       NaN  NaN          NaN         NaN        NaN        NaN        NaN   \n",
       "...     ...  ...          ...         ...        ...        ...        ...   \n",
       "8185    NaN  NaN          NaN         NaN        NaN        NaN        NaN   \n",
       "8186    NaN  NaN          NaN         NaN        NaN        NaN        NaN   \n",
       "8187    NaN  NaN          NaN         NaN        NaN        NaN        NaN   \n",
       "8188    NaN  NaN          NaN         NaN        NaN        NaN        NaN   \n",
       "8189    NaN  NaN          NaN         NaN        NaN        NaN        NaN   \n",
       "\n",
       "      MarkDown4  MarkDown5  CPI  Unemployment IsHoliday  \n",
       "0           NaN        NaN  NaN           NaN       NaN  \n",
       "1           NaN        NaN  NaN           NaN       NaN  \n",
       "2           NaN        NaN  NaN           NaN       NaN  \n",
       "3           NaN        NaN  NaN           NaN       NaN  \n",
       "4           NaN        NaN  NaN           NaN       NaN  \n",
       "...         ...        ...  ...           ...       ...  \n",
       "8185        NaN        NaN  NaN           NaN       NaN  \n",
       "8186        NaN        NaN  NaN           NaN       NaN  \n",
       "8187        NaN        NaN  NaN           NaN       NaN  \n",
       "8188        NaN        NaN  NaN           NaN       NaN  \n",
       "8189        NaN        NaN  NaN           NaN       NaN  \n",
       "\n",
       "[8190 rows x 12 columns]"
      ]
     },
     "execution_count": 48,
     "metadata": {},
     "output_type": "execute_result"
    }
   ],
   "source": [
    "df2[df2.isnull()]"
   ]
  },
  {
   "cell_type": "code",
   "execution_count": 49,
   "id": "c358fb82",
   "metadata": {},
   "outputs": [
    {
     "data": {
      "text/plain": [
       "Store              0\n",
       "Date               0\n",
       "Temperature        0\n",
       "Fuel_Price         0\n",
       "MarkDown1       4158\n",
       "MarkDown2       5269\n",
       "MarkDown3       4577\n",
       "MarkDown4       4726\n",
       "MarkDown5       4140\n",
       "CPI              585\n",
       "Unemployment     585\n",
       "IsHoliday          0\n",
       "dtype: int64"
      ]
     },
     "execution_count": 49,
     "metadata": {},
     "output_type": "execute_result"
    }
   ],
   "source": [
    "df2.isnull().sum()"
   ]
  },
  {
   "cell_type": "code",
   "execution_count": 50,
   "id": "ec2f898d",
   "metadata": {},
   "outputs": [],
   "source": [
    "na_counts=df2.drop(['Date','Temperature','Fuel_Price'],axis=1)"
   ]
  },
  {
   "cell_type": "code",
   "execution_count": 51,
   "id": "89d8d2db",
   "metadata": {},
   "outputs": [],
   "source": [
    "na_counts=na_counts.isna().sum()"
   ]
  },
  {
   "cell_type": "code",
   "execution_count": 52,
   "id": "d7eeb652",
   "metadata": {},
   "outputs": [
    {
     "data": {
      "text/plain": [
       "Store              0\n",
       "MarkDown1       4158\n",
       "MarkDown2       5269\n",
       "MarkDown3       4577\n",
       "MarkDown4       4726\n",
       "MarkDown5       4140\n",
       "CPI              585\n",
       "Unemployment     585\n",
       "IsHoliday          0\n",
       "dtype: int64"
      ]
     },
     "execution_count": 52,
     "metadata": {},
     "output_type": "execute_result"
    }
   ],
   "source": [
    "na_counts"
   ]
  },
  {
   "cell_type": "code",
   "execution_count": 53,
   "id": "0f7a4089",
   "metadata": {},
   "outputs": [
    {
     "data": {
      "text/plain": [
       "array(['Store', 'MarkDown1', 'MarkDown2', 'MarkDown3', 'MarkDown4',\n",
       "       'MarkDown5', 'CPI', 'Unemployment', 'IsHoliday'], dtype=object)"
      ]
     },
     "execution_count": 53,
     "metadata": {},
     "output_type": "execute_result"
    }
   ],
   "source": [
    "na_counts.index.values"
   ]
  },
  {
   "cell_type": "code",
   "execution_count": 54,
   "id": "82c08f82",
   "metadata": {},
   "outputs": [
    {
     "data": {
      "text/plain": [
       "(9,)"
      ]
     },
     "execution_count": 54,
     "metadata": {},
     "output_type": "execute_result"
    }
   ],
   "source": [
    "na_counts.shape"
   ]
  },
  {
   "cell_type": "code",
   "execution_count": 55,
   "id": "0b28383b",
   "metadata": {},
   "outputs": [
    {
     "name": "stderr",
     "output_type": "stream",
     "text": [
      "C:\\Users\\DELL\\AppData\\Local\\Programs\\Python\\Python310\\lib\\site-packages\\seaborn\\_decorators.py:36: FutureWarning: Pass the following variables as keyword args: x, y. From version 0.12, the only valid positional argument will be `data`, and passing other arguments without an explicit keyword will result in an error or misinterpretation.\n",
      "  warnings.warn(\n"
     ]
    },
    {
     "data": {
      "image/png": "[encoded data removed]",
      "text/plain": [
       "<Figure size 432x288 with 1 Axes>"
      ]
     },
     "metadata": {
      "needs_background": "light"
     },
     "output_type": "display_data"
    }
   ],
   "source": [
    "sns.barplot(na_counts.index.values,na_counts);\n",
    "plt.xticks(rotation=90);\n",
    "\n",
    "for i in range (na_counts.shape[0]):\n",
    "    count=na_counts[i]\n",
    "    plt.text(i,count+300,count,ha=\"center\",va='top')"
   ]
  },
  {
   "cell_type": "code",
   "execution_count": 77,
   "id": "29b5c8c8",
   "metadata": {},
   "outputs": [
    {
     "data": {
      "image/png": "[encoded data removed]",
      "text/plain": [
       "<Figure size 432x288 with 1 Axes>"
      ]
     },
     "metadata": {},
     "output_type": "display_data"
    }
   ],
   "source": [
    "df.generation_id.value_counts().plot(kind='pie',startangle=90,counterclock=False,labels=['gen5', 'gen1', 'gen3', 'gen4', 'gen2', 'gen7', 'gen6']);"
   ]
  },
  {
   "cell_type": "code",
   "execution_count": 79,
   "id": "bc90a347",
   "metadata": {},
   "outputs": [],
   "source": [
    "#donut pie\n",
    "sorted_values=df.generation_id.value_counts()"
   ]
  },
  {
   "cell_type": "code",
   "execution_count": 80,
   "id": "18efc2fd",
   "metadata": {},
   "outputs": [
    {
     "data": {
      "text/plain": [
       "5    156\n",
       "1    151\n",
       "3    135\n",
       "4    107\n",
       "2    100\n",
       "7     86\n",
       "6     72\n",
       "Name: generation_id, dtype: int64"
      ]
     },
     "execution_count": 80,
     "metadata": {},
     "output_type": "execute_result"
    }
   ],
   "source": [
    "sorted_values"
   ]
  },
  {
   "cell_type": "code",
   "execution_count": 86,
   "id": "9ed66b68",
   "metadata": {},
   "outputs": [
    {
     "data": {
      "image/png": "[encoded data removed]",
      "text/plain": [
       "<Figure size 432x288 with 1 Axes>"
      ]
     },
     "metadata": {},
     "output_type": "display_data"
    }
   ],
   "source": [
    "plt.pie(sorted_values,startangle=90,counterclock=False,labels=sorted_values.index,wedgeprops={'width':0.4});"
   ]
  },
  {
   "cell_type": "code",
   "execution_count": 88,
   "id": "f943098e",
   "metadata": {},
   "outputs": [
    {
     "data": {
      "text/html": [
       "<div>\n",
       "<style scoped>\n",
       "    .dataframe tbody tr th:only-of-type {\n",
       "        vertical-align: middle;\n",
       "    }\n",
       "\n",
       "    .dataframe tbody tr th {\n",
       "        vertical-align: top;\n",
       "    }\n",
       "\n",
       "    .dataframe thead th {\n",
       "        text-align: right;\n",
       "    }\n",
       "</style>\n",
       "<table border=\"1\" class=\"dataframe\">\n",
       "  <thead>\n",
       "    <tr style=\"text-align: right;\">\n",
       "      <th></th>\n",
       "      <th>id</th>\n",
       "      <th>species</th>\n",
       "      <th>generation_id</th>\n",
       "      <th>height</th>\n",
       "      <th>weight</th>\n",
       "      <th>base_experience</th>\n",
       "      <th>type_1</th>\n",
       "      <th>type_2</th>\n",
       "      <th>hp</th>\n",
       "      <th>attack</th>\n",
       "      <th>defense</th>\n",
       "      <th>speed</th>\n",
       "      <th>special-attack</th>\n",
       "      <th>special-defense</th>\n",
       "    </tr>\n",
       "  </thead>\n",
       "  <tbody>\n",
       "    <tr>\n",
       "      <th>0</th>\n",
       "      <td>1</td>\n",
       "      <td>bulbasaur</td>\n",
       "      <td>1</td>\n",
       "      <td>0.7</td>\n",
       "      <td>6.9</td>\n",
       "      <td>64</td>\n",
       "      <td>grass</td>\n",
       "      <td>poison</td>\n",
       "      <td>45</td>\n",
       "      <td>49</td>\n",
       "      <td>49</td>\n",
       "      <td>45</td>\n",
       "      <td>65</td>\n",
       "      <td>65</td>\n",
       "    </tr>\n",
       "    <tr>\n",
       "      <th>1</th>\n",
       "      <td>2</td>\n",
       "      <td>ivysaur</td>\n",
       "      <td>1</td>\n",
       "      <td>1.0</td>\n",
       "      <td>13.0</td>\n",
       "      <td>142</td>\n",
       "      <td>grass</td>\n",
       "      <td>poison</td>\n",
       "      <td>60</td>\n",
       "      <td>62</td>\n",
       "      <td>63</td>\n",
       "      <td>60</td>\n",
       "      <td>80</td>\n",
       "      <td>80</td>\n",
       "    </tr>\n",
       "    <tr>\n",
       "      <th>2</th>\n",
       "      <td>3</td>\n",
       "      <td>venusaur</td>\n",
       "      <td>1</td>\n",
       "      <td>2.0</td>\n",
       "      <td>100.0</td>\n",
       "      <td>236</td>\n",
       "      <td>grass</td>\n",
       "      <td>poison</td>\n",
       "      <td>80</td>\n",
       "      <td>82</td>\n",
       "      <td>83</td>\n",
       "      <td>80</td>\n",
       "      <td>100</td>\n",
       "      <td>100</td>\n",
       "    </tr>\n",
       "    <tr>\n",
       "      <th>3</th>\n",
       "      <td>4</td>\n",
       "      <td>charmander</td>\n",
       "      <td>1</td>\n",
       "      <td>0.6</td>\n",
       "      <td>8.5</td>\n",
       "      <td>62</td>\n",
       "      <td>fire</td>\n",
       "      <td>NaN</td>\n",
       "      <td>39</td>\n",
       "      <td>52</td>\n",
       "      <td>43</td>\n",
       "      <td>65</td>\n",
       "      <td>60</td>\n",
       "      <td>50</td>\n",
       "    </tr>\n",
       "    <tr>\n",
       "      <th>4</th>\n",
       "      <td>5</td>\n",
       "      <td>charmeleon</td>\n",
       "      <td>1</td>\n",
       "      <td>1.1</td>\n",
       "      <td>19.0</td>\n",
       "      <td>142</td>\n",
       "      <td>fire</td>\n",
       "      <td>NaN</td>\n",
       "      <td>58</td>\n",
       "      <td>64</td>\n",
       "      <td>58</td>\n",
       "      <td>80</td>\n",
       "      <td>80</td>\n",
       "      <td>65</td>\n",
       "    </tr>\n",
       "  </tbody>\n",
       "</table>\n",
       "</div>"
      ],
      "text/plain": [
       "   id     species generation_id  height  weight  base_experience type_1  \\\n",
       "0   1   bulbasaur             1     0.7     6.9               64  grass   \n",
       "1   2     ivysaur             1     1.0    13.0              142  grass   \n",
       "2   3    venusaur             1     2.0   100.0              236  grass   \n",
       "3   4  charmander             1     0.6     8.5               62   fire   \n",
       "4   5  charmeleon             1     1.1    19.0              142   fire   \n",
       "\n",
       "   type_2  hp  attack  defense  speed  special-attack  special-defense  \n",
       "0  poison  45      49       49     45              65               65  \n",
       "1  poison  60      62       63     60              80               80  \n",
       "2  poison  80      82       83     80             100              100  \n",
       "3     NaN  39      52       43     65              60               50  \n",
       "4     NaN  58      64       58     80              80               65  "
      ]
     },
     "execution_count": 88,
     "metadata": {},
     "output_type": "execute_result"
    }
   ],
   "source": [
    "df.head()"
   ]
  },
  {
   "cell_type": "code",
   "execution_count": 99,
   "id": "d2a4f75f",
   "metadata": {},
   "outputs": [
    {
     "data": {
      "image/png": "[encoded data removed]",
      "text/plain": [
       "<Figure size 432x288 with 1 Axes>"
      ]
     },
     "metadata": {
      "needs_background": "light"
     },
     "output_type": "display_data"
    }
   ],
   "source": [
    "bins=np.arange(0,df['speed'].max()+5,5)\n",
    "plt.hist(data=df,x='speed',bins=bins,);"
   ]
  },
  {
   "cell_type": "code",
   "execution_count": 111,
   "id": "34df1754",
   "metadata": {},
   "outputs": [
    {
     "data": {
      "image/png": "[encoded data removed]",
      "text/plain": [
       "<Figure size 360x360 with 1 Axes>"
      ]
     },
     "metadata": {
      "needs_background": "light"
     },
     "output_type": "display_data"
    }
   ],
   "source": [
    "sns.displot(df['speed'],kde=True,bins=20,color=\"red\");"
   ]
  },
  {
   "cell_type": "code",
   "execution_count": 115,
   "id": "7cd9ffd0",
   "metadata": {},
   "outputs": [
    {
     "data": {
      "image/png": "[encoded data removed]",
      "text/plain": [
       "<Figure size 1440x360 with 2 Axes>"
      ]
     },
     "metadata": {
      "needs_background": "light"
     },
     "output_type": "display_data"
    }
   ],
   "source": [
    "#plotting side by side\n",
    "plt.figure(figsize=[20,5])\n",
    "\n",
    "\n",
    "plt.subplot(1,2,1)\n",
    "bins=np.arange(0,df.speed.max()+4,4)\n",
    "plt.hist(data=df, x=\"speed\",bins=bins);\n",
    "\n",
    "plt.subplot(1,2,2)\n",
    "bins=np.arange(0,df.speed.max()+1/4,1/4)\n",
    "plt.hist(data=df,x='speed',bins=bins,color='red');"
   ]
  },
  {
   "cell_type": "markdown",
   "id": "e49e708f",
   "metadata": {},
   "source": [
    "### Histogram Practice"
   ]
  },
  {
   "cell_type": "markdown",
   "id": "9236f00c",
   "metadata": {},
   "source": [
    "### **TO DO Task**\n",
    "Pokémon have a number of different statistics that describe their combat capabilities. Here, create a _histogram_ that depicts the distribution of 'special-defense' values taken. \n",
    "\n",
    "**Hint**: Try playing around with different bin width sizes to see what best depicts the data."
   ]
  },
  {
   "cell_type": "code",
   "execution_count": 145,
   "id": "e012db72",
   "metadata": {},
   "outputs": [
    {
     "data": {
      "image/png": "[encoded data removed]",
      "text/plain": [
       "<Figure size 1440x360 with 2 Axes>"
      ]
     },
     "metadata": {
      "needs_background": "light"
     },
     "output_type": "display_data"
    }
   ],
   "source": [
    "plt.figure(figsize=[20,5])\n",
    "\n",
    "plt.subplot(1,2,1)\n",
    "\n",
    "bins=np.arange(0,df['special-defense'].max()+5,5)\n",
    "plt.hist(data=df,x='special-defense',bins=bins);\n",
    "\n",
    "plt.subplot(1,2,2)\n",
    "bins=np.arange(0,df['special-defense'].max()+0.5,0.5)\n",
    "plt.hist(data=df,x=\"special-defense\",bins=bins,color='red');"
   ]
  },
  {
   "cell_type": "code",
   "execution_count": 170,
   "id": "f2c15a11",
   "metadata": {},
   "outputs": [
    {
     "data": {
      "image/png": "[encoded data removed]",
      "text/plain": [
       "<Figure size 1440x360 with 1 Axes>"
      ]
     },
     "metadata": {
      "needs_background": "light"
     },
     "output_type": "display_data"
    }
   ],
   "source": [
    "plt.figure(figsize=[20,5])\n",
    "\n",
    "bins=np.arange(0,df['special-defense'].max()+5,5)\n",
    "plt.hist(data=df,x='special-defense',bins=bins);\n",
    "bins=np.arange(0,df['special-defense'].max()+0.5,0.5)\n",
    "plt.hist(data=df,x=\"special-defense\",bins=bins,color='red');"
   ]
  },
  {
   "cell_type": "code",
   "execution_count": 140,
   "id": "6f2dfc7e",
   "metadata": {},
   "outputs": [
    {
     "data": {
      "text/plain": [
       "<seaborn.axisgrid.FacetGrid at 0x288a0c5e140>"
      ]
     },
     "execution_count": 140,
     "metadata": {},
     "output_type": "execute_result"
    },
    {
     "data": {
      "image/png": "[encoded data removed]",
      "text/plain": [
       "<Figure size 360x360 with 1 Axes>"
      ]
     },
     "metadata": {
      "needs_background": "light"
     },
     "output_type": "display_data"
    }
   ],
   "source": [
    "sns.displot(df['special-defense'],bins=40,color=sns.color_palette()[4],kde=True)"
   ]
  },
  {
   "cell_type": "code",
   "execution_count": null,
   "id": "9b147c11",
   "metadata": {},
   "outputs": [],
   "source": []
  },
  {
   "cell_type": "markdown",
   "id": "586f7264",
   "metadata": {},
   "source": [
    "### Choosing a plot for Discrete data"
   ]
  },
  {
   "cell_type": "code",
   "execution_count": 148,
   "id": "d1921879",
   "metadata": {},
   "outputs": [],
   "source": [
    "df_rolls=pd.read_csv('die-rolls.csv')"
   ]
  },
  {
   "cell_type": "code",
   "execution_count": 149,
   "id": "67baaec1",
   "metadata": {},
   "outputs": [
    {
     "data": {
      "text/html": [
       "<div>\n",
       "<style scoped>\n",
       "    .dataframe tbody tr th:only-of-type {\n",
       "        vertical-align: middle;\n",
       "    }\n",
       "\n",
       "    .dataframe tbody tr th {\n",
       "        vertical-align: top;\n",
       "    }\n",
       "\n",
       "    .dataframe thead th {\n",
       "        text-align: right;\n",
       "    }\n",
       "</style>\n",
       "<table border=\"1\" class=\"dataframe\">\n",
       "  <thead>\n",
       "    <tr style=\"text-align: right;\">\n",
       "      <th></th>\n",
       "      <th>Dice</th>\n",
       "      <th>Trial 1</th>\n",
       "      <th>Trial 2</th>\n",
       "      <th>Sum</th>\n",
       "    </tr>\n",
       "  </thead>\n",
       "  <tbody>\n",
       "    <tr>\n",
       "      <th>0</th>\n",
       "      <td>1</td>\n",
       "      <td>4</td>\n",
       "      <td>1</td>\n",
       "      <td>5</td>\n",
       "    </tr>\n",
       "    <tr>\n",
       "      <th>1</th>\n",
       "      <td>2</td>\n",
       "      <td>4</td>\n",
       "      <td>5</td>\n",
       "      <td>9</td>\n",
       "    </tr>\n",
       "    <tr>\n",
       "      <th>2</th>\n",
       "      <td>3</td>\n",
       "      <td>2</td>\n",
       "      <td>6</td>\n",
       "      <td>8</td>\n",
       "    </tr>\n",
       "    <tr>\n",
       "      <th>3</th>\n",
       "      <td>4</td>\n",
       "      <td>6</td>\n",
       "      <td>3</td>\n",
       "      <td>9</td>\n",
       "    </tr>\n",
       "    <tr>\n",
       "      <th>4</th>\n",
       "      <td>5</td>\n",
       "      <td>3</td>\n",
       "      <td>6</td>\n",
       "      <td>9</td>\n",
       "    </tr>\n",
       "  </tbody>\n",
       "</table>\n",
       "</div>"
      ],
      "text/plain": [
       "   Dice  Trial 1  Trial 2  Sum\n",
       "0     1        4        1    5\n",
       "1     2        4        5    9\n",
       "2     3        2        6    8\n",
       "3     4        6        3    9\n",
       "4     5        3        6    9"
      ]
     },
     "execution_count": 149,
     "metadata": {},
     "output_type": "execute_result"
    }
   ],
   "source": [
    "df_rolls.head()"
   ]
  },
  {
   "cell_type": "code",
   "execution_count": 176,
   "id": "ec36d16e",
   "metadata": {},
   "outputs": [
    {
     "data": {
      "image/png": "[encoded data removed]",
      "text/plain": [
       "<Figure size 1440x360 with 2 Axes>"
      ]
     },
     "metadata": {
      "needs_background": "light"
     },
     "output_type": "display_data"
    }
   ],
   "source": [
    "plt.figure(figsize=[20,5])\n",
    "\n",
    "plt.subplot(1,2,1)\n",
    "bin_edges=np.arange(2,12+1.1,1)\n",
    "plt.hist(data=df_rolls,x=\"Sum\",bins=bin_edges);\n",
    "plt.xticks(np.arange(2,12+1.1,1));\n",
    "\n",
    "plt.subplot(1,2,2)\n",
    "bin_edges=np.arange(1.5,12+1,1)\n",
    "plt.hist(data=df_rolls,x=\"Sum\",bins=bin_edges);\n",
    "plt.xticks(np.arange(2,12+1,1));"
   ]
  },
  {
   "cell_type": "markdown",
   "id": "e5e781eb",
   "metadata": {},
   "source": [
    "#### Managing gaps between inidvidual bars"
   ]
  },
  {
   "cell_type": "code",
   "execution_count": 174,
   "id": "32f8c10e",
   "metadata": {},
   "outputs": [
    {
     "data": {
      "image/png": "[encoded data removed]",
      "text/plain": [
       "<Figure size 432x288 with 1 Axes>"
      ]
     },
     "metadata": {
      "needs_background": "light"
     },
     "output_type": "display_data"
    }
   ],
   "source": [
    "plt.hist(data=df,x=\"special-defense\",bins=30,color='maroon',rwidth=0.51);"
   ]
  },
  {
   "cell_type": "markdown",
   "id": "43a3c5bf",
   "metadata": {},
   "source": [
    "### Descriptive statistics, Ouliers and Axis Limits"
   ]
  },
  {
   "cell_type": "code",
   "execution_count": 179,
   "id": "bb67d3c9",
   "metadata": {},
   "outputs": [
    {
     "data": {
      "image/png": "[encoded data removed]",
      "text/plain": [
       "<Figure size 432x288 with 1 Axes>"
      ]
     },
     "metadata": {
      "needs_background": "light"
     },
     "output_type": "display_data"
    }
   ],
   "source": [
    "#histogram of height of pokemons\n",
    "bins=np.arange(0,df.height.max()+0.5,0.5);\n",
    "plt.hist(data=df,x=\"height\",bins=bins);"
   ]
  },
  {
   "cell_type": "code",
   "execution_count": 183,
   "id": "7349a3d4",
   "metadata": {},
   "outputs": [
    {
     "data": {
      "image/png": "[encoded data removed]",
      "text/plain": [
       "<Figure size 432x288 with 1 Axes>"
      ]
     },
     "metadata": {
      "needs_background": "light"
     },
     "output_type": "display_data"
    }
   ],
   "source": [
    "# we need to zoom into the axis further to investigate the data set\n",
    "bins=np.arange(0,df.height.max()+0.5,0.5);\n",
    "plt.hist(data=df,x=\"height\",bins=bins);\n",
    "plt.xlim((0,6));"
   ]
  },
  {
   "cell_type": "code",
   "execution_count": 185,
   "id": "f3c28a0c",
   "metadata": {},
   "outputs": [
    {
     "data": {
      "image/png": "[encoded data removed]",
      "text/plain": [
       "<Figure size 1440x360 with 2 Axes>"
      ]
     },
     "metadata": {
      "needs_background": "light"
     },
     "output_type": "display_data"
    }
   ],
   "source": [
    "plt.figure(figsize=[20,5])\n",
    "\n",
    "plt.subplot(1,2,1)\n",
    "bins=np.arange(0,df.height.max()+0.5,0.5);\n",
    "plt.hist(data=df,x=\"height\",bins=bins);\n",
    "plt.xlim((0,6));\n",
    "\n",
    "plt.subplot(1,2,2)\n",
    "bins=np.arange(0,df.height.max()+0.5,0.5);\n",
    "plt.hist(data=df,x=\"height\",bins=bins);"
   ]
  },
  {
   "cell_type": "markdown",
   "id": "81a7e235",
   "metadata": {},
   "source": [
    "### Scales and Transformation"
   ]
  },
  {
   "cell_type": "code",
   "execution_count": 191,
   "id": "9aa9133b",
   "metadata": {},
   "outputs": [
    {
     "data": {
      "image/png": "[encoded data removed]",
      "text/plain": [
       "<Figure size 1440x360 with 2 Axes>"
      ]
     },
     "metadata": {
      "needs_background": "light"
     },
     "output_type": "display_data"
    }
   ],
   "source": [
    "#weight\n",
    "plt.figure(figsize=[20,5]);\n",
    "\n",
    "plt.subplot(1,2,1)\n",
    "bins=np.arange(0,df.weight.max()+50,50);\n",
    "plt.hist(data=df,x=\"weight\",bins=bins);\n",
    "\n",
    "\n",
    "plt.subplot(1,2,2)\n",
    "bins=np.arange(0,df.weight.max()+50,50)\n",
    "plt.hist(data=df,x=\"weight\",bins=bins)\n",
    "plt.xscale('log')"
   ]
  },
  {
   "cell_type": "code",
   "execution_count": 193,
   "id": "4efb9d1a",
   "metadata": {},
   "outputs": [
    {
     "data": {
      "text/plain": [
       "count    807.000000\n",
       "mean      61.771128\n",
       "std      111.519355\n",
       "min        0.100000\n",
       "25%        9.000000\n",
       "50%       27.000000\n",
       "75%       63.000000\n",
       "max      999.900000\n",
       "Name: weight, dtype: float64"
      ]
     },
     "execution_count": 193,
     "metadata": {},
     "output_type": "execute_result"
    }
   ],
   "source": [
    "df.weight.describe()"
   ]
  },
  {
   "cell_type": "code",
   "execution_count": 196,
   "id": "e7645715",
   "metadata": {},
   "outputs": [
    {
     "data": {
      "text/plain": [
       "count    2.906874\n",
       "mean     1.790786\n",
       "std      2.047350\n",
       "min     -1.000000\n",
       "25%      0.954243\n",
       "50%      1.431364\n",
       "75%      1.799341\n",
       "max      2.999957\n",
       "Name: weight, dtype: float64"
      ]
     },
     "execution_count": 196,
     "metadata": {},
     "output_type": "execute_result"
    }
   ],
   "source": [
    "np.log10(df.weight.describe())"
   ]
  },
  {
   "cell_type": "code",
   "execution_count": 199,
   "id": "4037f609",
   "metadata": {},
   "outputs": [
    {
     "data": {
      "image/png": "[encoded data removed]",
      "text/plain": [
       "<Figure size 1440x360 with 2 Axes>"
      ]
     },
     "metadata": {
      "needs_background": "light"
     },
     "output_type": "display_data"
    }
   ],
   "source": [
    "plt.figure(figsize=[20,5]);\n",
    "\n",
    "plt.subplot(1,2,1)\n",
    "bins=np.arange(0,df.weight.max()+50,50);\n",
    "plt.hist(data=df,x=\"weight\",bins=bins);\n",
    "\n",
    "\n",
    "plt.subplot(1,2,2)\n",
    "bins=10**np.arange(-1,3+0.1,0.1)\n",
    "plt.hist(data=df,x=\"weight\",bins=bins)\n",
    "plt.xscale('log')"
   ]
  },
  {
   "cell_type": "code",
   "execution_count": 204,
   "id": "59da4a84",
   "metadata": {},
   "outputs": [
    {
     "data": {
      "image/png": "[encoded data removed]",
      "text/plain": [
       "<Figure size 1440x360 with 2 Axes>"
      ]
     },
     "metadata": {
      "needs_background": "light"
     },
     "output_type": "display_data"
    }
   ],
   "source": [
    "plt.figure(figsize=[20,5]);\n",
    "\n",
    "plt.subplot(1,2,1)\n",
    "bins=np.arange(0,df.weight.max()+50,50);\n",
    "plt.hist(data=df,x=\"weight\",bins=bins);\n",
    "\n",
    "plt.subplot(1,2,2)\n",
    "bins=10**np.arange(-1,3+0.1,0.1)\n",
    "ticks = [0.1, 0.3, 1, 3, 10, 30, 100, 300, 1000]\n",
    "labels = ['{}'.format(v) for v in ticks]\n",
    "plt.hist(data=df,x=\"weight\",bins=bins)\n",
    "plt.xscale('log')\n",
    "plt.xticks(ticks,labels);"
   ]
  },
  {
   "cell_type": "code",
   "execution_count": null,
   "id": "21dcf814",
   "metadata": {},
   "outputs": [],
   "source": []
  }
 ],
 "metadata": {
  "kernelspec": {
   "display_name": "Python 3 (ipykernel)",
   "language": "python",
   "name": "python3"
  },
  "language_info": {
   "codemirror_mode": {
    "name": "ipython",
    "version": 3
   },
   "file_extension": ".py",
   "mimetype": "text/x-python",
   "name": "python",
   "nbconvert_exporter": "python",
   "pygments_lexer": "ipython3",
   "version": "3.10.5"
  }
 },
 "nbformat": 4,
 "nbformat_minor": 5
}
