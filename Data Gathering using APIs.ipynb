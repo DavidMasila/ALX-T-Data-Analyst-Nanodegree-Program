{
 "cells": [
  {
   "cell_type": "markdown",
   "id": "a839f83f",
   "metadata": {},
   "source": [
    "Using Application Programming Interface"
   ]
  },
  {
   "cell_type": "code",
   "execution_count": 6,
   "id": "cbf69ee3",
   "metadata": {},
   "outputs": [],
   "source": [
    "import rtsimple as rt"
   ]
  },
  {
   "cell_type": "code",
   "execution_count": 2,
   "id": "5a0da00c",
   "metadata": {},
   "outputs": [
    {
     "name": "stdout",
     "output_type": "stream",
     "text": [
      "Collecting wptools\n",
      "  Using cached wptools-0.4.17-py2.py3-none-any.whl (38 kB)\n",
      "Collecting certifi\n",
      "  Using cached certifi-2022.5.18.1-py3-none-any.whl (155 kB)\n",
      "Collecting lxml\n",
      "  Using cached lxml-4.9.0-cp310-cp310-win_amd64.whl (3.6 MB)\n",
      "Collecting html2text\n",
      "  Using cached html2text-2020.1.16-py3-none-any.whl (32 kB)\n",
      "Collecting pycurl\n",
      "  Using cached pycurl-7.45.1.tar.gz (233 kB)\n",
      "  Preparing metadata (setup.py): started\n",
      "  Preparing metadata (setup.py): finished with status 'error'\n",
      "Note: you may need to restart the kernel to use updated packages.\n"
     ]
    },
    {
     "name": "stderr",
     "output_type": "stream",
     "text": [
      "  error: subprocess-exited-with-error\n",
      "  \n",
      "  python setup.py egg_info did not run successfully.\n",
      "  exit code: 10\n",
      "  \n",
      "  [1 lines of output]\n",
      "  Please specify --curl-dir=/path/to/built/libcurl\n",
      "  [end of output]\n",
      "  \n",
      "  note: This error originates from a subprocess, and is likely not a problem with pip.\n",
      "error: metadata-generation-failed\n",
      "\n",
      "Encountered error while generating package metadata.\n",
      "\n",
      "See above for output.\n",
      "\n",
      "note: This is an issue with the package mentioned above, not pip.\n",
      "hint: See above for details.\n"
     ]
    }
   ],
   "source": [
    "pip install wptools"
   ]
  },
  {
   "cell_type": "code",
   "execution_count": 3,
   "id": "f686ed69",
   "metadata": {},
   "outputs": [
    {
     "ename": "ModuleNotFoundError",
     "evalue": "No module named 'wptools'",
     "output_type": "error",
     "traceback": [
      "\u001b[1;31m---------------------------------------------------------------------------\u001b[0m",
      "\u001b[1;31mModuleNotFoundError\u001b[0m                       Traceback (most recent call last)",
      "Input \u001b[1;32mIn [3]\u001b[0m, in \u001b[0;36m<cell line: 1>\u001b[1;34m()\u001b[0m\n\u001b[1;32m----> 1\u001b[0m \u001b[38;5;28;01mimport\u001b[39;00m \u001b[38;5;21;01mwptools\u001b[39;00m\n",
      "\u001b[1;31mModuleNotFoundError\u001b[0m: No module named 'wptools'"
     ]
    }
   ],
   "source": [
    "import wptools"
   ]
  },
  {
   "cell_type": "code",
   "execution_count": null,
   "id": "30ae3492",
   "metadata": {},
   "outputs": [],
   "source": []
  }
 ],
 "metadata": {
  "kernelspec": {
   "display_name": "Python 3 (ipykernel)",
   "language": "python",
   "name": "python3"
  },
  "language_info": {
   "codemirror_mode": {
    "name": "ipython",
    "version": 3
   },
   "file_extension": ".py",
   "mimetype": "text/x-python",
   "name": "python",
   "nbconvert_exporter": "python",
   "pygments_lexer": "ipython3",
   "version": "3.10.5"
  }
 },
 "nbformat": 4,
 "nbformat_minor": 5
}
